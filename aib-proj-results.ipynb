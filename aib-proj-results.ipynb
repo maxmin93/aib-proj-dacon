{
 "cells": [
  {
   "cell_type": "markdown",
   "metadata": {},
   "source": [
    "# KoNLPy 형태소 분석기\n",
    "\n",
    "참고\n",
    "\n",
    "- [한국어 형태소 분석기 체험 및 비교(Okt, Mecab, Komoran, Kkma)](https://soohee410.github.io/compare_tagger)\n",
    "\n",
    "#### MeCab\n",
    "\n",
    "- 잘게 자른다. 매우 빠르다(압도적). C++ 기반. \n",
    "- Elasticsearch 의 Nori 토크나이저도 mecab-ko-dic 사전을 사용함\n",
    "- KoNLPy 외에 사전 설치 필요\n",
    "\n",
    "```bash\n",
    "# MeCab 사전 설치\n",
    "bash <(curl -s https://raw.githubusercontent.com/konlpy/konlpy/master/scripts/mecab.sh)\n",
    "```\n",
    "\n",
    "#### Okt\n",
    "\n",
    "- 스테밍 기능이 있다. 적당히 정교하다. 속도도 준수한편\n",
    "- 트위터에서 만든 오픈소스 한국어 처리기 tweeter-korean-text 사전을 이어받아 만들어짐"
   ]
  },
  {
   "cell_type": "markdown",
   "metadata": {},
   "source": [
    "## Mecab"
   ]
  },
  {
   "cell_type": "code",
   "execution_count": null,
   "metadata": {
    "colab": {
     "base_uri": "https://localhost:8080/"
    },
    "executionInfo": {
     "elapsed": 372,
     "status": "ok",
     "timestamp": 1658660870972,
     "user": {
      "displayName": "민병국",
      "userId": "09364981984888868466"
     },
     "user_tz": -540
    },
    "id": "bfz_6J79BkoC",
    "outputId": "a26e3a24-503a-4432-d5ef-41559e8f1db3"
   },
   "outputs": [
    {
     "data": {
      "text/plain": [
       "{'EC': '연결 어미',\n",
       " 'EF': '종결 어미',\n",
       " 'EP': '선어말어미',\n",
       " 'ETM': '관형형 전성 어미',\n",
       " 'ETN': '명사형 전성 어미',\n",
       " 'IC': '감탄사',\n",
       " 'JC': '접속 조사',\n",
       " 'JKB': '부사격 조사',\n",
       " 'JKC': '보격 조사',\n",
       " 'JKG': '관형격 조사',\n",
       " 'JKO': '목적격 조사',\n",
       " 'JKQ': '인용격 조사',\n",
       " 'JKS': '주격 조사',\n",
       " 'JKV': '호격 조사',\n",
       " 'JX': '보조사',\n",
       " 'MAG': '일반 부사',\n",
       " 'MAJ': '접속 부사',\n",
       " 'MM': '관형사',\n",
       " 'NNB': '의존 명사',\n",
       " 'NNBC': '단위를 나타내는 명사',\n",
       " 'NNG': '일반 명사',\n",
       " 'NNP': '고유 명사',\n",
       " 'NP': '대명사',\n",
       " 'NR': '수사',\n",
       " 'SC': '구분자 , · / :',\n",
       " 'SE': '줄임표 …',\n",
       " 'SF': '마침표, 물음표, 느낌표',\n",
       " 'SH': '한자',\n",
       " 'SL': '외국어',\n",
       " 'SN': '숫자',\n",
       " 'SSC': '닫는 괄호 ), ]',\n",
       " 'SSO': '여는 괄호 (, [',\n",
       " 'SY': '기타 기호',\n",
       " 'VA': '형용사',\n",
       " 'VCN': '부정 지정사',\n",
       " 'VCP': '긍정 지정사',\n",
       " 'VV': '동사',\n",
       " 'VX': '보조 용언',\n",
       " 'XPN': '체언 접두사',\n",
       " 'XR': '어근',\n",
       " 'XSA': '형용사 파생 접미사',\n",
       " 'XSN': '명사파생 접미사',\n",
       " 'XSV': '동사 파생 접미사'}"
      ]
     },
     "metadata": {},
     "output_type": "display_data"
    }
   ],
   "source": [
    "mecab.tagset"
   ]
  },
  {
   "cell_type": "code",
   "execution_count": null,
   "metadata": {
    "colab": {
     "base_uri": "https://localhost:8080/"
    },
    "executionInfo": {
     "elapsed": 366,
     "status": "ok",
     "timestamp": 1658659523369,
     "user": {
      "displayName": "민병국",
      "userId": "09364981984888868466"
     },
     "user_tz": -540
    },
    "id": "CH36zOrEWJy5",
    "outputId": "ee429320-6c12-4ddf-f165-0e435e554b70"
   },
   "outputs": [
    {
     "name": "stdout",
     "output_type": "stream",
     "text": [
      "['영등포구청역', '에', '있', '는', '맛집', '좀', '알려', '주', '세요', '.']\n",
      "['우리', '나라', '무릎', '치료', '정형', '외과']\n",
      "[('자연주의', 'NNG'), ('~', 'SY'), ('별로', 'MAG'), ('에요', 'JX'), ('ㅎㅎ', 'IC'), ('ㅠㅠㅠㅠㅜ', 'UNKNOWN'), ('(', 'SSO'), ('쇼핑', 'NNG'), ('[', 'SSO'), ('몰', 'NNG'), (']', 'SSC'), (')', 'SSC'), ('은', 'JX'), ('어떤', 'MM'), ('곳', 'NNG'), ('인가', 'VCP+EF'), ('?', 'SF'), ('알파벳', 'NNG'), (',', 'SC'), ('alphabet', 'SL'), (',', 'SC'), ('1234', 'SN'), ('.', 'SF')]\n"
     ]
    }
   ],
   "source": [
    "# MeCab 테스트\n",
    "from konlpy.tag import Mecab\n",
    "mecab = Mecab()\n",
    "print(mecab.morphs(u'영등포구청역에 있는 맛집 좀 알려주세요.'))\n",
    "# ['영등포구청역', '에', '있', '는', '맛집', '좀', '알려', '주', '세요', '.']\n",
    "print(mecab.nouns(u'우리나라에는 무릎 치료를 잘하는 정형외과가 없는가!'))\n",
    "# ['우리', '나라', '무릎', '치료', '정형', '외과']\n",
    "print(mecab.pos(u'자연주의~ 별로에요 ㅎㅎ ㅠㅠㅠㅠㅜ\t(쇼핑[몰])은 어떤 곳인가? 알파벳, alphabet, 1234.'))\n",
    "# [('자연주의', 'NNG'), ('쇼핑몰', 'NNG'), ('은', 'JX'), ('어떤', 'MM'), ('곳', 'NNG'), ('인가', 'VCP+EF'), ('?', 'SF')]"
   ]
  },
  {
   "cell_type": "code",
   "execution_count": null,
   "metadata": {
    "colab": {
     "base_uri": "https://localhost:8080/",
     "height": 350
    },
    "executionInfo": {
     "elapsed": 614,
     "status": "ok",
     "timestamp": 1658660902007,
     "user": {
      "displayName": "민병국",
      "userId": "09364981984888868466"
     },
     "user_tz": -540
    },
    "id": "KlXXdR6ilKl4",
    "outputId": "8c3ce846-49cc-4288-89e6-f343beba50a3"
   },
   "outputs": [
    {
     "data": {
      "image/png": "[encoded data removed]",
      "text/plain": [
       "<Figure size 1008x360 with 1 Axes>"
      ]
     },
     "metadata": {},
     "output_type": "display_data"
    }
   ],
   "source": [
    "import matplotlib.pyplot as plt\n",
    "\n",
    "# 중간값(13)만 빨간색\n",
    "colors = [ 'lightblue' if x != 13 else 'darkred' for x in x_values ]\n",
    "\n",
    "plt.figure(figsize = (14, 5))\n",
    "plt.bar(x_values, y_values, color=colors)\n",
    "plt.title(\"Tokens size\")\n",
    "plt.xlabel(\"Token size\")\n",
    "plt.ylabel(\"Number of Reviews\")\n",
    "plt.show()"
   ]
  },
  {
   "cell_type": "markdown",
   "metadata": {},
   "source": [
    "## Okt"
   ]
  },
  {
   "cell_type": "code",
   "execution_count": null,
   "metadata": {
    "colab": {
     "base_uri": "https://localhost:8080/"
    },
    "executionInfo": {
     "elapsed": 309,
     "status": "ok",
     "timestamp": 1658733363064,
     "user": {
      "displayName": "민병국",
      "userId": "09364981984888868466"
     },
     "user_tz": -540
    },
    "id": "DiMpDfVG_jP-",
    "outputId": "bf0dbdbc-8641-4473-bd97-3daf97110f11"
   },
   "outputs": [
    {
     "data": {
      "text/plain": [
       "{'Adjective': '형용사',\n",
       " 'Adverb': '부사',\n",
       " 'Alpha': '알파벳',\n",
       " 'Conjunction': '접속사',\n",
       " 'Determiner': '관형사',\n",
       " 'Eomi': '어미',\n",
       " 'Exclamation': '감탄사',\n",
       " 'Foreign': '외국어, 한자 및 기타기호',\n",
       " 'Hashtag': '트위터 해쉬태그',\n",
       " 'Josa': '조사',\n",
       " 'KoreanParticle': '(ex: ㅋㅋ)',\n",
       " 'Noun': '명사',\n",
       " 'Number': '숫자',\n",
       " 'PreEomi': '선어말어미',\n",
       " 'Punctuation': '구두점',\n",
       " 'ScreenName': '트위터 아이디',\n",
       " 'Suffix': '접미사',\n",
       " 'Unknown': '미등록어',\n",
       " 'Verb': '동사'}"
      ]
     },
     "metadata": {},
     "output_type": "display_data"
    }
   ],
   "source": [
    "# Okt 의 태그셋\n",
    "okt.tagset"
   ]
  },
  {
   "cell_type": "code",
   "execution_count": null,
   "metadata": {
    "colab": {
     "base_uri": "https://localhost:8080/"
    },
    "executionInfo": {
     "elapsed": 484,
     "status": "ok",
     "timestamp": 1658558356398,
     "user": {
      "displayName": "민병국",
      "userId": "09364981984888868466"
     },
     "user_tz": -540
    },
    "id": "ERhRJqf1XxcH",
    "outputId": "b6d5fa6a-54bb-4b69-b4e6-9085aa6c49fd"
   },
   "outputs": [
    {
     "name": "stdout",
     "output_type": "stream",
     "text": [
      "['영등포', '구청', '역', '에', '있는', '맛집', '좀', '알려주세요', '.']\n",
      "['우리나라', '무릎', '치료', '정형외과']\n",
      "[('자연', 'Noun'), ('주의', 'Noun'), ('~', 'Punctuation'), ('별로', 'Noun'), ('에요', 'Josa'), ('ㅎㅎ', 'KoreanParticle'), ('ㅠㅠㅠㅠㅜ', 'KoreanParticle'), ('(', 'Punctuation'), ('쇼핑', 'Noun'), ('[', 'Punctuation'), ('몰', 'Verb'), ('])', 'Punctuation'), ('은', 'Noun'), ('어떤', 'Adjective'), ('곳', 'Noun'), ('인가', 'Josa'), ('?', 'Punctuation')]\n"
     ]
    }
   ],
   "source": [
    "# Okt 테스트\n",
    "from konlpy.tag import Okt\n",
    "okt = Okt()\n",
    "print(okt.morphs(u'영등포구청역에 있는 맛집 좀 알려주세요.'))\n",
    "# ['영등포', '구청', '역', '에', '있는', '맛집', '좀', '알려주세요', '.']\n",
    "print(okt.nouns(u'우리나라에는 무릎 치료를 잘하는 정형외과가 없는가!'))\n",
    "# ['우리나라', '무릎', '치료', '정형외과']\n",
    "print(okt.pos(u'자연주의~ 별로에요 ㅎㅎ ㅠㅠㅠㅠㅜ (쇼핑[몰])은 어떤 곳인가?'))\n",
    "# [('자연', 'Noun'), ('주의', 'Noun'), ('쇼핑몰', 'Noun'), ('은', 'Josa'), ('어떤', 'Adjective'), ('곳', 'Noun'), ('인가', 'Josa'), ('?', 'Punctuation')]"
   ]
  },
  {
   "cell_type": "code",
   "execution_count": null,
   "metadata": {
    "colab": {
     "base_uri": "https://localhost:8080/"
    },
    "executionInfo": {
     "elapsed": 316,
     "status": "ok",
     "timestamp": 1658738784833,
     "user": {
      "displayName": "민병국",
      "userId": "09364981984888868466"
     },
     "user_tz": -540
    },
    "id": "IRsaG6hrMH7v",
    "outputId": "4afd0ca5-b3e2-4722-be05-2fa7c00d7d92"
   },
   "outputs": [
    {
     "name": "stdout",
     "output_type": "stream",
     "text": [
      "[('제품', 'Noun'), ('이', 'Josa'), ('별로', 'Noun'), ('에요', 'Josa'), ('좋다', 'Adjective'), ('좋다', 'Adjective'), ('좋다', 'Adjective'), ('좋다', 'Adjective'), ('하다', 'Verb'), ('빠르다', 'Adjective'), ('사다', 'Verb'), ('하다', 'Verb'), ('없다', 'Adjective'), ('하다', 'Verb'), ('좋다', 'Adjective'), ('나쁘다', 'Adjective')]\n"
     ]
    }
   ],
   "source": [
    "print(okt.pos(u'제품이 별로에요 좋아요 좋아용 조은 좋은 했는데 빠르고 샀는데 하세요 없고 했습니다 좋네요 나빠요', norm=True, stem=True))"
   ]
  },
  {
   "cell_type": "code",
   "execution_count": null,
   "metadata": {
    "colab": {
     "base_uri": "https://localhost:8080/",
     "height": 350
    },
    "executionInfo": {
     "elapsed": 703,
     "status": "ok",
     "timestamp": 1658662099757,
     "user": {
      "displayName": "민병국",
      "userId": "09364981984888868466"
     },
     "user_tz": -540
    },
    "id": "KlXXdR6ilKl4",
    "outputId": "aba3824e-b185-4981-d00f-e901f349b7ac"
   },
   "outputs": [
    {
     "data": {
      "image/png": "[encoded data removed]",
      "text/plain": [
       "<Figure size 1008x360 with 1 Axes>"
      ]
     },
     "metadata": {},
     "output_type": "display_data"
    }
   ],
   "source": [
    "import matplotlib.pyplot as plt\n",
    "\n",
    "# 중간값(9)만 빨간색\n",
    "colors = [ 'lightblue' if x != 9 else 'darkred' for x in x_values ]\n",
    "\n",
    "plt.figure(figsize = (14, 5))\n",
    "plt.bar(x_values, y_values, color=colors)\n",
    "plt.title(\"Tokens size\")\n",
    "plt.xlabel(\"Token size\")\n",
    "plt.ylabel(\"Number of Reviews\")\n",
    "plt.show()"
   ]
  },
  {
   "cell_type": "markdown",
   "metadata": {},
   "source": [
    "- - -"
   ]
  },
  {
   "cell_type": "markdown",
   "metadata": {},
   "source": []
  },
  {
   "cell_type": "markdown",
   "metadata": {},
   "source": [
    "- - -"
   ]
  },
  {
   "cell_type": "markdown",
   "metadata": {},
   "source": [
    "# 실험 결과\n",
    "\n",
    "## 데이터셋\n",
    "\n",
    "- train.csv : 25000건\n",
    "  - reviews: 구어체 문장\n",
    "  - target: 정수형 1~5 (평점3 데이터는 제거됨)  \n",
    "- test.csv : 25000건\n",
    "  - reviews: 구어체 문장\n",
    "  - target: 없음 (제출용)  \n",
    "\n",
    "## 전처리 (노이즈 제거)\n",
    "\n",
    "- 한글 자모음 찾아보기 ==> 4584\n",
    "- 영어 찾아보기 ==> 537\n",
    "- 숫자 찾아보기 ==> 2425\n",
    "- 특수문자 찾아보기 ==> 13360\n",
    "- 웹주소 찾아보기 ==> 2\n",
    "- 이메일 찾아보기 ==> 0\n",
    "- 전화번호 찾아보기 ==> 4\n",
    "\n",
    "\n",
    "## 회귀 모델\n",
    "\n",
    "- LogisticRegression\n",
    "- LightBGM\n",
    "\n",
    "## DNN 모델 \n",
    "\n",
    "- LSTM/BiLSTM\n",
    "- 1D CNN\n",
    "\n",
    "## Transformer 모델 (Hugging Face)\n",
    "\n",
    "- ELECTRA\n",
    "  - 한국어 모델 KcELECTRA"
   ]
  },
  {
   "cell_type": "markdown",
   "metadata": {},
   "source": [
    "## Okt_stem + TfidfVectorizer + LogisticRegression\n",
    "\n",
    "- 전처리: 한글만 남기고 모두 제거, 한글자 리뷰 제거 (drop=12행)\n",
    "- 토큰화: Okt.pos(stem=True)\n",
    "- 데이터 분할: train(80%)+valid(20%)\n",
    "- 벡터화: TfidfVectorizer(ngram_range=(1,2), min_df=2)\n",
    "- 모델 &nbsp: LogisticRegression(solver='liblinear')\n",
    "  - valid_acc = 0.647\n"
   ]
  },
  {
   "cell_type": "code",
   "execution_count": null,
   "metadata": {
    "colab": {
     "base_uri": "https://localhost:8080/"
    },
    "executionInfo": {
     "elapsed": 758,
     "status": "ok",
     "timestamp": 1658818888455,
     "user": {
      "displayName": "민병국",
      "userId": "09364981984888868466"
     },
     "user_tz": -540
    },
    "id": "rqW0w--YEmbn",
    "outputId": "b58641b3-898c-46fc-d69c-5db96dc744ee"
   },
   "outputs": [
    {
     "name": "stdout",
     "output_type": "stream",
     "text": [
      "TF-IDF Logistic Regression 의 예측 정확도는 0.647\n"
     ]
    }
   ],
   "source": [
    "# 훈련\n",
    "lr_clf.fit(X_train_vec, y_train)\n",
    "# 평가\n",
    "pred = lr_clf.predict(X_valid_vec)\n",
    "print('TF-IDF Logistic Regression 의 예측 정확도는 {0:.3f}'.format(metrics.accuracy_score(y_valid, pred)))"
   ]
  }
 ],
 "metadata": {
  "kernelspec": {
   "display_name": "Python 3.9.13 64-bit ('3.9.13')",
   "language": "python",
   "name": "python3"
  },
  "language_info": {
   "name": "python",
   "version": "3.9.13"
  },
  "orig_nbformat": 4,
  "vscode": {
   "interpreter": {
    "hash": "b07c26107ec8864bc90f82b7b0852371725716d682b4b80204fd6d5ff11a363c"
   }
  }
 },
 "nbformat": 4,
 "nbformat_minor": 2
}
