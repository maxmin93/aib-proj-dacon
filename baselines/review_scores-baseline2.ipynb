{
 "cells": [
  {
   "cell_type": "markdown",
   "id": "4e72e3dc",
   "metadata": {},
   "source": [
    "## [쇼핑몰 리뷰 평점 분류 경진대회](https://dacon.io/competitions/official/235938/data)\n",
    "\n"
   ]
  },
  {
   "cell_type": "code",
   "execution_count": 2,
   "id": "bca04863",
   "metadata": {},
   "outputs": [],
   "source": [
    "import pandas as pd\n",
    "\n",
    "data_path = '../data/shopping_mall_review_scores'\n",
    "\n",
    "#csv 형식의 training 데이터를 로드합니다.\n",
    "train = pd.read_csv(f'{data_path}/train.csv')\n",
    "test = pd.read_csv(f'{data_path}/test.csv')"
   ]
  },
  {
   "cell_type": "code",
   "execution_count": 3,
   "id": "f5a0e4a4",
   "metadata": {},
   "outputs": [
    {
     "data": {
      "text/html": [
       "<div>\n",
       "<style scoped>\n",
       "    .dataframe tbody tr th:only-of-type {\n",
       "        vertical-align: middle;\n",
       "    }\n",
       "\n",
       "    .dataframe tbody tr th {\n",
       "        vertical-align: top;\n",
       "    }\n",
       "\n",
       "    .dataframe thead th {\n",
       "        text-align: right;\n",
       "    }\n",
       "</style>\n",
       "<table border=\"1\" class=\"dataframe\">\n",
       "  <thead>\n",
       "    <tr style=\"text-align: right;\">\n",
       "      <th></th>\n",
       "      <th>id</th>\n",
       "      <th>reviews</th>\n",
       "      <th>target</th>\n",
       "    </tr>\n",
       "  </thead>\n",
       "  <tbody>\n",
       "    <tr>\n",
       "      <th>0</th>\n",
       "      <td>0</td>\n",
       "      <td>조아요 처음구입 싸게햇어요</td>\n",
       "      <td>2</td>\n",
       "    </tr>\n",
       "    <tr>\n",
       "      <th>1</th>\n",
       "      <td>1</td>\n",
       "      <td>생각보다 잘 안돼요 매지 바른지 하루밖에 안됐는데ㅠㅠ 25천원가량 주고 사기 너무 ...</td>\n",
       "      <td>1</td>\n",
       "    </tr>\n",
       "    <tr>\n",
       "      <th>2</th>\n",
       "      <td>2</td>\n",
       "      <td>디자인은괜찮은데 상품이 금이가서 교환했는데 두번째받은상품도 까져있고 안쪽에 금이가져...</td>\n",
       "      <td>2</td>\n",
       "    </tr>\n",
       "    <tr>\n",
       "      <th>3</th>\n",
       "      <td>3</td>\n",
       "      <td>기전에 이 제품말고 이마트 트레이더스에서만 팔던 프리미엄 제품을 사용했었습니다. 샘...</td>\n",
       "      <td>2</td>\n",
       "    </tr>\n",
       "    <tr>\n",
       "      <th>4</th>\n",
       "      <td>4</td>\n",
       "      <td>튼튼하고 손목을 잘 받쳐주네요~</td>\n",
       "      <td>5</td>\n",
       "    </tr>\n",
       "  </tbody>\n",
       "</table>\n",
       "</div>"
      ],
      "text/plain": [
       "   id                                            reviews  target\n",
       "0   0                                     조아요 처음구입 싸게햇어요       2\n",
       "1   1  생각보다 잘 안돼요 매지 바른지 하루밖에 안됐는데ㅠㅠ 25천원가량 주고 사기 너무 ...       1\n",
       "2   2  디자인은괜찮은데 상품이 금이가서 교환했는데 두번째받은상품도 까져있고 안쪽에 금이가져...       2\n",
       "3   3  기전에 이 제품말고 이마트 트레이더스에서만 팔던 프리미엄 제품을 사용했었습니다. 샘...       2\n",
       "4   4                                  튼튼하고 손목을 잘 받쳐주네요~       5"
      ]
     },
     "execution_count": 3,
     "metadata": {},
     "output_type": "execute_result"
    }
   ],
   "source": [
    "train.head()"
   ]
  },
  {
   "cell_type": "code",
   "execution_count": 4,
   "id": "74263862",
   "metadata": {},
   "outputs": [
    {
     "data": {
      "text/html": [
       "<div>\n",
       "<style scoped>\n",
       "    .dataframe tbody tr th:only-of-type {\n",
       "        vertical-align: middle;\n",
       "    }\n",
       "\n",
       "    .dataframe tbody tr th {\n",
       "        vertical-align: top;\n",
       "    }\n",
       "\n",
       "    .dataframe thead th {\n",
       "        text-align: right;\n",
       "    }\n",
       "</style>\n",
       "<table border=\"1\" class=\"dataframe\">\n",
       "  <thead>\n",
       "    <tr style=\"text-align: right;\">\n",
       "      <th></th>\n",
       "      <th>id</th>\n",
       "      <th>reviews</th>\n",
       "    </tr>\n",
       "  </thead>\n",
       "  <tbody>\n",
       "    <tr>\n",
       "      <th>0</th>\n",
       "      <td>0</td>\n",
       "      <td>채소가 약간 시들어 있어요</td>\n",
       "    </tr>\n",
       "    <tr>\n",
       "      <th>1</th>\n",
       "      <td>1</td>\n",
       "      <td>발톱 두껍고 단단한 분들 써도 소용없어요 이 테이프 물렁거리고 힘이없어서 들어 올리...</td>\n",
       "    </tr>\n",
       "    <tr>\n",
       "      <th>2</th>\n",
       "      <td>2</td>\n",
       "      <td>부들부들 좋네요 입어보고 시원하면 또 살게요</td>\n",
       "    </tr>\n",
       "    <tr>\n",
       "      <th>3</th>\n",
       "      <td>3</td>\n",
       "      <td>이런 1. 8 골드 주라니깐 파란개 오네 회사전화걸어도 받지도 않고 머하자는거임?</td>\n",
       "    </tr>\n",
       "    <tr>\n",
       "      <th>4</th>\n",
       "      <td>4</td>\n",
       "      <td>검수도 없이 보내구 불량 배송비 5000원 청구하네요 완전별로 별하나도 아까워요</td>\n",
       "    </tr>\n",
       "  </tbody>\n",
       "</table>\n",
       "</div>"
      ],
      "text/plain": [
       "   id                                            reviews\n",
       "0   0                                     채소가 약간 시들어 있어요\n",
       "1   1  발톱 두껍고 단단한 분들 써도 소용없어요 이 테이프 물렁거리고 힘이없어서 들어 올리...\n",
       "2   2                           부들부들 좋네요 입어보고 시원하면 또 살게요\n",
       "3   3      이런 1. 8 골드 주라니깐 파란개 오네 회사전화걸어도 받지도 않고 머하자는거임?\n",
       "4   4       검수도 없이 보내구 불량 배송비 5000원 청구하네요 완전별로 별하나도 아까워요"
      ]
     },
     "execution_count": 4,
     "metadata": {},
     "output_type": "execute_result"
    }
   ],
   "source": [
    "test.head()"
   ]
  },
  {
   "cell_type": "code",
   "execution_count": 5,
   "id": "d91438e5",
   "metadata": {},
   "outputs": [
    {
     "name": "stdout",
     "output_type": "stream",
     "text": [
      "<class 'pandas.core.frame.DataFrame'>\n",
      "RangeIndex: 25000 entries, 0 to 24999\n",
      "Data columns (total 3 columns):\n",
      " #   Column   Non-Null Count  Dtype \n",
      "---  ------   --------------  ----- \n",
      " 0   id       25000 non-null  int64 \n",
      " 1   reviews  25000 non-null  object\n",
      " 2   target   25000 non-null  int64 \n",
      "dtypes: int64(2), object(1)\n",
      "memory usage: 586.1+ KB\n"
     ]
    }
   ],
   "source": [
    "# 데이터 결측치 및 변수들의 타입 확인\n",
    "train.info()"
   ]
  },
  {
   "cell_type": "code",
   "execution_count": 6,
   "id": "64c8abc1",
   "metadata": {},
   "outputs": [],
   "source": [
    "# training 데이터에서 변수 추출\n",
    "X = train.reviews\n",
    "\n",
    "# training 데이터에서 변수 추출 \n",
    "y = train.target "
   ]
  },
  {
   "cell_type": "code",
   "execution_count": 7,
   "id": "6231a3cf",
   "metadata": {},
   "outputs": [
    {
     "name": "stderr",
     "output_type": "stream",
     "text": [
      "OpenJDK 64-Bit Server VM warning: Attempt to protect stack guard pages failed.\n",
      "OpenJDK 64-Bit Server VM warning: Attempt to deallocate stack guard pages failed.\n"
     ]
    },
    {
     "name": "stdout",
     "output_type": "stream",
     "text": [
      "단어 토큰화 결과 ==> ['Dacon', '베이직', '서머', '에서', ',', '시원하게', '데이터', '분석', '하자', '!']\n",
      "명사 추출 결과 ==> ['베이직', '서머', '데이터', '분석', '하자']\n"
     ]
    }
   ],
   "source": [
    "from konlpy.tag import Okt\n",
    "okt=Okt()  \n",
    "\n",
    "text = \"Dacon 베이직 서머에서, 시원하게 데이터 분석 하자 !\" # 예시 문장을 정의합니다.\n",
    "\n",
    "print('단어 토큰화 결과 ==>', okt.morphs(text))\n",
    "print('명사 추출 결과 ==>', okt.nouns(text)) "
   ]
  },
  {
   "cell_type": "code",
   "execution_count": 9,
   "id": "7dcdd497",
   "metadata": {},
   "outputs": [
    {
     "name": "stdout",
     "output_type": "stream",
     "text": [
      "품사 태깅 결과 ==> [('Dacon', 'Alpha'), ('베이직', 'Noun'), ('서머', 'Noun'), ('에서', 'Josa'), (',', 'Punctuation'), ('시원하게', 'Adjective'), ('데이터', 'Noun'), ('분석', 'Noun'), ('하자', 'Noun'), ('!', 'Punctuation')]\n"
     ]
    }
   ],
   "source": [
    "# okt.pos() 를 이용\n",
    "print('품사 태깅 결과 ==>', okt.pos(text))  "
   ]
  },
  {
   "cell_type": "code",
   "execution_count": 8,
   "id": "846e4f03",
   "metadata": {},
   "outputs": [
    {
     "data": {
      "text/html": [
       "<div>\n",
       "<style scoped>\n",
       "    .dataframe tbody tr th:only-of-type {\n",
       "        vertical-align: middle;\n",
       "    }\n",
       "\n",
       "    .dataframe tbody tr th {\n",
       "        vertical-align: top;\n",
       "    }\n",
       "\n",
       "    .dataframe thead th {\n",
       "        text-align: right;\n",
       "    }\n",
       "</style>\n",
       "<table border=\"1\" class=\"dataframe\">\n",
       "  <thead>\n",
       "    <tr style=\"text-align: right;\">\n",
       "      <th></th>\n",
       "      <th>id</th>\n",
       "      <th>reviews</th>\n",
       "      <th>target</th>\n",
       "      <th>tokenized_stem</th>\n",
       "    </tr>\n",
       "  </thead>\n",
       "  <tbody>\n",
       "    <tr>\n",
       "      <th>0</th>\n",
       "      <td>0</td>\n",
       "      <td>조아요 처음구입 싸게햇어요</td>\n",
       "      <td>2</td>\n",
       "      <td>조아요 처음 구입 싸게 햇 어 요</td>\n",
       "    </tr>\n",
       "    <tr>\n",
       "      <th>1</th>\n",
       "      <td>1</td>\n",
       "      <td>생각보다 잘 안돼요 매지 바른지 하루밖에 안됐는데ㅠㅠ 25천원가량 주고 사기 너무 ...</td>\n",
       "      <td>1</td>\n",
       "      <td>생각 보다 잘 안 돼요 매지 바른지 하루 밖에 안 됐는데 ㅠㅠ 25천원 가량 주고 ...</td>\n",
       "    </tr>\n",
       "    <tr>\n",
       "      <th>2</th>\n",
       "      <td>2</td>\n",
       "      <td>디자인은괜찮은데 상품이 금이가서 교환했는데 두번째받은상품도 까져있고 안쪽에 금이가져...</td>\n",
       "      <td>2</td>\n",
       "      <td>디자인 은 괜찮은데 상품 이 금 이 가서 교환 했는데 두번째 받은 상품 도 까져있고...</td>\n",
       "    </tr>\n",
       "    <tr>\n",
       "      <th>3</th>\n",
       "      <td>3</td>\n",
       "      <td>기전에 이 제품말고 이마트 트레이더스에서만 팔던 프리미엄 제품을 사용했었습니다. 샘...</td>\n",
       "      <td>2</td>\n",
       "      <td>기전 에 이 제품 말고 이마트 트 레이더스 에서만 팔던 프리미엄 제품 을 사용 했었...</td>\n",
       "    </tr>\n",
       "    <tr>\n",
       "      <th>4</th>\n",
       "      <td>4</td>\n",
       "      <td>튼튼하고 손목을 잘 받쳐주네요~</td>\n",
       "      <td>5</td>\n",
       "      <td>튼튼하고 손목 을 잘 받쳐주네요 ~</td>\n",
       "    </tr>\n",
       "  </tbody>\n",
       "</table>\n",
       "</div>"
      ],
      "text/plain": [
       "   id                                            reviews  target  \\\n",
       "0   0                                     조아요 처음구입 싸게햇어요       2   \n",
       "1   1  생각보다 잘 안돼요 매지 바른지 하루밖에 안됐는데ㅠㅠ 25천원가량 주고 사기 너무 ...       1   \n",
       "2   2  디자인은괜찮은데 상품이 금이가서 교환했는데 두번째받은상품도 까져있고 안쪽에 금이가져...       2   \n",
       "3   3  기전에 이 제품말고 이마트 트레이더스에서만 팔던 프리미엄 제품을 사용했었습니다. 샘...       2   \n",
       "4   4                                  튼튼하고 손목을 잘 받쳐주네요~       5   \n",
       "\n",
       "                                      tokenized_stem  \n",
       "0                                 조아요 처음 구입 싸게 햇 어 요  \n",
       "1  생각 보다 잘 안 돼요 매지 바른지 하루 밖에 안 됐는데 ㅠㅠ 25천원 가량 주고 ...  \n",
       "2  디자인 은 괜찮은데 상품 이 금 이 가서 교환 했는데 두번째 받은 상품 도 까져있고...  \n",
       "3  기전 에 이 제품 말고 이마트 트 레이더스 에서만 팔던 프리미엄 제품 을 사용 했었...  \n",
       "4                                튼튼하고 손목 을 잘 받쳐주네요 ~  "
      ]
     },
     "execution_count": 8,
     "metadata": {},
     "output_type": "execute_result"
    }
   ],
   "source": [
    "tokenized = [] # 데이터프레임의 한 컬럼으로 추가할 리스트\n",
    "def token(dataframe):\n",
    "    for sentence in dataframe['reviews']: # 전처리된 리뷰들을 하나씩 꺼내옵니다\n",
    "        tokens = okt.morphs(sentence)\n",
    "        tokenize = \" \".join(tokens) \n",
    "        # tokens라는 리스트 안의 형태소들을 띄어쓰기로 분리된 하나의 문자열로 join시켜줍니다.\n",
    "        tokenized.append(tokenize) \n",
    "        # 형태소 단위로 띄어쓰기된 문자열을 최종 리스트에 추가해줍니다\n",
    "        dataframe[\"tokenized_stem\"] = pd.DataFrame(tokenized) \n",
    "        # 리스트를 데이터프레임으로 변환해 tokenized_stem라는 컬럼명으로 추가해줍니다.\n",
    "    \n",
    "token(train)\n",
    "token(test)\n",
    "\n",
    "train.head() # 데이터 확인"
   ]
  },
  {
   "cell_type": "code",
   "execution_count": 10,
   "id": "bbb1c0a5",
   "metadata": {},
   "outputs": [
    {
     "data": {
      "text/html": [
       "<div>\n",
       "<style scoped>\n",
       "    .dataframe tbody tr th:only-of-type {\n",
       "        vertical-align: middle;\n",
       "    }\n",
       "\n",
       "    .dataframe tbody tr th {\n",
       "        vertical-align: top;\n",
       "    }\n",
       "\n",
       "    .dataframe thead th {\n",
       "        text-align: right;\n",
       "    }\n",
       "</style>\n",
       "<table border=\"1\" class=\"dataframe\">\n",
       "  <thead>\n",
       "    <tr style=\"text-align: right;\">\n",
       "      <th></th>\n",
       "      <th>id</th>\n",
       "      <th>reviews</th>\n",
       "      <th>target</th>\n",
       "      <th>tokenized_stem</th>\n",
       "      <th>main_pos</th>\n",
       "    </tr>\n",
       "  </thead>\n",
       "  <tbody>\n",
       "    <tr>\n",
       "      <th>0</th>\n",
       "      <td>0</td>\n",
       "      <td>조아요 처음구입 싸게햇어요</td>\n",
       "      <td>2</td>\n",
       "      <td>조아요 처음 구입 싸게 햇 어 요</td>\n",
       "      <td>조아요 처음 구입 싸게 햇 요</td>\n",
       "    </tr>\n",
       "    <tr>\n",
       "      <th>1</th>\n",
       "      <td>1</td>\n",
       "      <td>생각보다 잘 안돼요 매지 바른지 하루밖에 안됐는데ㅠㅠ 25천원가량 주고 사기 너무 ...</td>\n",
       "      <td>1</td>\n",
       "      <td>생각 보다 잘 안 돼요 매지 바른지 하루 밖에 안 됐는데 ㅠㅠ 25천원 가량 주고 ...</td>\n",
       "      <td>생각 보다 잘 안 돼요 매지 바른지 하루 안 됐는데 ㅠㅠ 25천원 가량 주고 사기 ...</td>\n",
       "    </tr>\n",
       "    <tr>\n",
       "      <th>2</th>\n",
       "      <td>2</td>\n",
       "      <td>디자인은괜찮은데 상품이 금이가서 교환했는데 두번째받은상품도 까져있고 안쪽에 금이가져...</td>\n",
       "      <td>2</td>\n",
       "      <td>디자인 은 괜찮은데 상품 이 금 이 가서 교환 했는데 두번째 받은 상품 도 까져있고...</td>\n",
       "      <td>디자인 은 괜찮은데 상품 이 금 이 가서 교환 했는데 두번째 받은 상품 도 까져있고...</td>\n",
       "    </tr>\n",
       "    <tr>\n",
       "      <th>3</th>\n",
       "      <td>3</td>\n",
       "      <td>기전에 이 제품말고 이마트 트레이더스에서만 팔던 프리미엄 제품을 사용했었습니다. 샘...</td>\n",
       "      <td>2</td>\n",
       "      <td>기전 에 이 제품 말고 이마트 트 레이더스 에서만 팔던 프리미엄 제품 을 사용 했었...</td>\n",
       "      <td>기전 이 제품 이마트 트 레이더스 팔던 프리미엄 제품 사용 했었습니다 샘플 써 보고...</td>\n",
       "    </tr>\n",
       "    <tr>\n",
       "      <th>4</th>\n",
       "      <td>4</td>\n",
       "      <td>튼튼하고 손목을 잘 받쳐주네요~</td>\n",
       "      <td>5</td>\n",
       "      <td>튼튼하고 손목 을 잘 받쳐주네요 ~</td>\n",
       "      <td>튼튼하고 손목 잘 받쳐주네요</td>\n",
       "    </tr>\n",
       "  </tbody>\n",
       "</table>\n",
       "</div>"
      ],
      "text/plain": [
       "   id                                            reviews  target  \\\n",
       "0   0                                     조아요 처음구입 싸게햇어요       2   \n",
       "1   1  생각보다 잘 안돼요 매지 바른지 하루밖에 안됐는데ㅠㅠ 25천원가량 주고 사기 너무 ...       1   \n",
       "2   2  디자인은괜찮은데 상품이 금이가서 교환했는데 두번째받은상품도 까져있고 안쪽에 금이가져...       2   \n",
       "3   3  기전에 이 제품말고 이마트 트레이더스에서만 팔던 프리미엄 제품을 사용했었습니다. 샘...       2   \n",
       "4   4                                  튼튼하고 손목을 잘 받쳐주네요~       5   \n",
       "\n",
       "                                      tokenized_stem  \\\n",
       "0                                 조아요 처음 구입 싸게 햇 어 요   \n",
       "1  생각 보다 잘 안 돼요 매지 바른지 하루 밖에 안 됐는데 ㅠㅠ 25천원 가량 주고 ...   \n",
       "2  디자인 은 괜찮은데 상품 이 금 이 가서 교환 했는데 두번째 받은 상품 도 까져있고...   \n",
       "3  기전 에 이 제품 말고 이마트 트 레이더스 에서만 팔던 프리미엄 제품 을 사용 했었...   \n",
       "4                                튼튼하고 손목 을 잘 받쳐주네요 ~   \n",
       "\n",
       "                                            main_pos  \n",
       "0                                   조아요 처음 구입 싸게 햇 요  \n",
       "1  생각 보다 잘 안 돼요 매지 바른지 하루 안 됐는데 ㅠㅠ 25천원 가량 주고 사기 ...  \n",
       "2  디자인 은 괜찮은데 상품 이 금 이 가서 교환 했는데 두번째 받은 상품 도 까져있고...  \n",
       "3  기전 이 제품 이마트 트 레이더스 팔던 프리미엄 제품 사용 했었습니다 샘플 써 보고...  \n",
       "4                                    튼튼하고 손목 잘 받쳐주네요  "
      ]
     },
     "execution_count": 10,
     "metadata": {},
     "output_type": "execute_result"
    }
   ],
   "source": [
    "def postagging(dataframe):\n",
    "    main_pos = [] # 데이터프레임의 새 컬럼이 될 리스트\n",
    "    for sentence in dataframe['tokenized_stem']: # 리뷰들을 하나씩 가져옵니다\n",
    "        pos = okt.pos(sentence) \n",
    "        # 형태소 분석을 진행하고 해당 리스트를 pos라는 변수로 받습니다\n",
    "        main_words = [word_pos[0] for word_pos in pos if word_pos[1] in ('Adjective', #형용사\n",
    "                                                                         'Noun', #명사\n",
    "                                                                         'Adjective', #부사\n",
    "                                                                         'Verb', #동사\n",
    "                                                                         'Number',\n",
    "                                                                         'KoreanParticle'\n",
    "                                                                         )] \n",
    "        # 가져오고자 하는 품사에 해당하면 해당 형태소를 main_words 리스트에 추가합니다.\n",
    "        main_words_str = \" \".join(main_words) \n",
    "        # main_words 리스트 안의 형태소들을 띄어쓰기로 분리된 하나의 문자열로 join시켜줍니다.\n",
    "        main_pos.append(main_words_str) \n",
    "        # 선택한 형태소들로 이루어진 문자열을 최종 리스트에 추가해줍니다\n",
    "        dataframe[\"main_pos\"] = pd.DataFrame(main_pos) \n",
    "        # 리스트를 데이터프레임으로 변환해 main_pos라는 컬럼명으로 추가해줍니다.\n",
    "\n",
    "        \n",
    "postagging(train)\n",
    "#postagging(test) ## test셋도 똑같이 품사태깅을 적용해줍니다.\n",
    "train.head() # 데이터 확인"
   ]
  },
  {
   "cell_type": "markdown",
   "id": "30ad833c",
   "metadata": {},
   "source": [
    "----"
   ]
  },
  {
   "cell_type": "code",
   "execution_count": 11,
   "id": "ee9cac11",
   "metadata": {},
   "outputs": [],
   "source": [
    "from sklearn.model_selection import train_test_split\n",
    "\n",
    "data = train.copy()\n",
    "train, val = train_test_split(data)\n",
    "train.reset_index(inplace=True) # 전처리 과정에서 데이터가 뒤섞이지 않도록 인덱스를 초기화해주었습니다.\n",
    "val.reset_index(inplace=True)"
   ]
  },
  {
   "cell_type": "code",
   "execution_count": 13,
   "id": "7812e35c",
   "metadata": {},
   "outputs": [
    {
     "name": "stdout",
     "output_type": "stream",
     "text": [
      "train 데이터 셋 모양 : (18750, 6)\n",
      "val 데이터 셋 모양 : (6250, 6)\n"
     ]
    }
   ],
   "source": [
    "# 크기를 확인합니다.\n",
    "print( 'train 데이터 셋 모양 :', train.shape)\n",
    "print( 'val 데이터 셋 모양 :', val.shape)"
   ]
  },
  {
   "cell_type": "code",
   "execution_count": 14,
   "id": "46d2c078",
   "metadata": {},
   "outputs": [],
   "source": [
    "X_train = train.main_pos #training 데이터에서 문서 추출\n",
    "y_train = train.target #training 데이터에서 라벨 추출"
   ]
  },
  {
   "cell_type": "code",
   "execution_count": 15,
   "id": "6868dada",
   "metadata": {},
   "outputs": [],
   "source": [
    "from sklearn.feature_extraction.text import CountVectorizer\n",
    "\n",
    "vectorizer = CountVectorizer() #countvectorizer 생성\n",
    "vectorizer.fit(X_train) # countvectorizer 학습\n",
    "X_train_vec = vectorizer.transform(X_train) # transform"
   ]
  },
  {
   "cell_type": "code",
   "execution_count": 16,
   "id": "d894714d",
   "metadata": {},
   "outputs": [
    {
     "data": {
      "text/html": [
       "<style>#sk-container-id-1 {color: black;background-color: white;}#sk-container-id-1 pre{padding: 0;}#sk-container-id-1 div.sk-toggleable {background-color: white;}#sk-container-id-1 label.sk-toggleable__label {cursor: pointer;display: block;width: 100%;margin-bottom: 0;padding: 0.3em;box-sizing: border-box;text-align: center;}#sk-container-id-1 label.sk-toggleable__label-arrow:before {content: \"▸\";float: left;margin-right: 0.25em;color: #696969;}#sk-container-id-1 label.sk-toggleable__label-arrow:hover:before {color: black;}#sk-container-id-1 div.sk-estimator:hover label.sk-toggleable__label-arrow:before {color: black;}#sk-container-id-1 div.sk-toggleable__content {max-height: 0;max-width: 0;overflow: hidden;text-align: left;background-color: #f0f8ff;}#sk-container-id-1 div.sk-toggleable__content pre {margin: 0.2em;color: black;border-radius: 0.25em;background-color: #f0f8ff;}#sk-container-id-1 input.sk-toggleable__control:checked~div.sk-toggleable__content {max-height: 200px;max-width: 100%;overflow: auto;}#sk-container-id-1 input.sk-toggleable__control:checked~label.sk-toggleable__label-arrow:before {content: \"▾\";}#sk-container-id-1 div.sk-estimator input.sk-toggleable__control:checked~label.sk-toggleable__label {background-color: #d4ebff;}#sk-container-id-1 div.sk-label input.sk-toggleable__control:checked~label.sk-toggleable__label {background-color: #d4ebff;}#sk-container-id-1 input.sk-hidden--visually {border: 0;clip: rect(1px 1px 1px 1px);clip: rect(1px, 1px, 1px, 1px);height: 1px;margin: -1px;overflow: hidden;padding: 0;position: absolute;width: 1px;}#sk-container-id-1 div.sk-estimator {font-family: monospace;background-color: #f0f8ff;border: 1px dotted black;border-radius: 0.25em;box-sizing: border-box;margin-bottom: 0.5em;}#sk-container-id-1 div.sk-estimator:hover {background-color: #d4ebff;}#sk-container-id-1 div.sk-parallel-item::after {content: \"\";width: 100%;border-bottom: 1px solid gray;flex-grow: 1;}#sk-container-id-1 div.sk-label:hover label.sk-toggleable__label {background-color: #d4ebff;}#sk-container-id-1 div.sk-serial::before {content: \"\";position: absolute;border-left: 1px solid gray;box-sizing: border-box;top: 0;bottom: 0;left: 50%;z-index: 0;}#sk-container-id-1 div.sk-serial {display: flex;flex-direction: column;align-items: center;background-color: white;padding-right: 0.2em;padding-left: 0.2em;position: relative;}#sk-container-id-1 div.sk-item {position: relative;z-index: 1;}#sk-container-id-1 div.sk-parallel {display: flex;align-items: stretch;justify-content: center;background-color: white;position: relative;}#sk-container-id-1 div.sk-item::before, #sk-container-id-1 div.sk-parallel-item::before {content: \"\";position: absolute;border-left: 1px solid gray;box-sizing: border-box;top: 0;bottom: 0;left: 50%;z-index: -1;}#sk-container-id-1 div.sk-parallel-item {display: flex;flex-direction: column;z-index: 1;position: relative;background-color: white;}#sk-container-id-1 div.sk-parallel-item:first-child::after {align-self: flex-end;width: 50%;}#sk-container-id-1 div.sk-parallel-item:last-child::after {align-self: flex-start;width: 50%;}#sk-container-id-1 div.sk-parallel-item:only-child::after {width: 0;}#sk-container-id-1 div.sk-dashed-wrapped {border: 1px dashed gray;margin: 0 0.4em 0.5em 0.4em;box-sizing: border-box;padding-bottom: 0.4em;background-color: white;}#sk-container-id-1 div.sk-label label {font-family: monospace;font-weight: bold;display: inline-block;line-height: 1.2em;}#sk-container-id-1 div.sk-label-container {text-align: center;}#sk-container-id-1 div.sk-container {/* jupyter's `normalize.less` sets `[hidden] { display: none; }` but bootstrap.min.css set `[hidden] { display: none !important; }` so we also need the `!important` here to be able to override the default hidden behavior on the sphinx rendered scikit-learn.org. See: https://github.com/scikit-learn/scikit-learn/issues/21755 */display: inline-block !important;position: relative;}#sk-container-id-1 div.sk-text-repr-fallback {display: none;}</style><div id=\"sk-container-id-1\" class=\"sk-top-container\"><div class=\"sk-text-repr-fallback\"><pre>LogisticRegression(max_iter=500)</pre><b>In a Jupyter environment, please rerun this cell to show the HTML representation or trust the notebook. <br />On GitHub, the HTML representation is unable to render, please try loading this page with nbviewer.org.</b></div><div class=\"sk-container\" hidden><div class=\"sk-item\"><div class=\"sk-estimator sk-toggleable\"><input class=\"sk-toggleable__control sk-hidden--visually\" id=\"sk-estimator-id-1\" type=\"checkbox\" checked><label for=\"sk-estimator-id-1\" class=\"sk-toggleable__label sk-toggleable__label-arrow\">LogisticRegression</label><div class=\"sk-toggleable__content\"><pre>LogisticRegression(max_iter=500)</pre></div></div></div></div></div>"
      ],
      "text/plain": [
       "LogisticRegression(max_iter=500)"
      ]
     },
     "execution_count": 16,
     "metadata": {},
     "output_type": "execute_result"
    }
   ],
   "source": [
    "from sklearn.linear_model import LogisticRegression #모델 불러오기\n",
    "model = LogisticRegression(max_iter=500) #객체에 모델 할당\n",
    "model.fit(X_train_vec, y_train) #모델 학습"
   ]
  },
  {
   "cell_type": "code",
   "execution_count": 17,
   "id": "f0b2de49",
   "metadata": {},
   "outputs": [],
   "source": [
    "X_val = val.main_pos #validation 데이터에서 전처리된 문서 추출\n",
    "y_val = val.target #validation 데이터에서 라벨 추출\n",
    "\n",
    "X_val_vec = vectorizer.transform(X_val) # train셋으로 fit한 벡터라이저 이용해 transform"
   ]
  },
  {
   "cell_type": "code",
   "execution_count": 18,
   "id": "1b016843",
   "metadata": {},
   "outputs": [
    {
     "name": "stdout",
     "output_type": "stream",
     "text": [
      "[5 2 5 ... 5 2 2]\n"
     ]
    }
   ],
   "source": [
    "y_pred = model.predict(X_val_vec)\n",
    "print(y_pred)"
   ]
  },
  {
   "cell_type": "code",
   "execution_count": 19,
   "id": "7984e228",
   "metadata": {},
   "outputs": [
    {
     "name": "stdout",
     "output_type": "stream",
     "text": [
      "Logistic Regression 의 예측 정확도는 0.619\n"
     ]
    }
   ],
   "source": [
    "from sklearn import metrics\n",
    "print('Logistic Regression 의 예측 정확도는', round(metrics.accuracy_score(y_val, y_pred),3)) # 정확도 확인"
   ]
  },
  {
   "cell_type": "code",
   "execution_count": null,
   "id": "44ebf2b9",
   "metadata": {},
   "outputs": [],
   "source": [
    "# CountVectorizer 적용\n",
    "train_X = vectorizer.transform(train_X)\n",
    "val_X = vectorizer.transform(val_X)"
   ]
  },
  {
   "cell_type": "code",
   "execution_count": null,
   "id": "ff53d87b",
   "metadata": {},
   "outputs": [],
   "source": [
    "# 변환이 잘 되었나 확인합니다.\n",
    "print(train_X[10])\n",
    "\n",
    "# inverse_transform을 사용해 원문을 확인할 수 있습니다.\n",
    "vectorizer.inverse_transform(train_X[10])"
   ]
  },
  {
   "cell_type": "code",
   "execution_count": null,
   "id": "d71e0a5d",
   "metadata": {},
   "outputs": [],
   "source": [
    "from sklearn.linear_model import LogisticRegression #모델 불러오기\n",
    "model = LogisticRegression(max_iter=500) #객체에 모델 할당\n",
    "model.fit(train_X, train_y) #모델 학습"
   ]
  },
  {
   "cell_type": "markdown",
   "id": "5777a58d",
   "metadata": {},
   "source": [
    "----"
   ]
  },
  {
   "cell_type": "code",
   "execution_count": null,
   "id": "764e35ea",
   "metadata": {},
   "outputs": [],
   "source": [
    "# 먼저 점수를 메기는 방법인 평가 지표(Metric)를 정의합니다.\n",
    "import numpy as np\n",
    "\n",
    "def ACCURACY(true, pred):   \n",
    "    score = np.mean(true==pred)\n",
    "    return score"
   ]
  },
  {
   "cell_type": "code",
   "execution_count": null,
   "id": "166f7bec",
   "metadata": {},
   "outputs": [],
   "source": [
    "# val_X를 이용해 예측값을 생성합니다.\n",
    "y_pred = model.predict(val_X)"
   ]
  },
  {
   "cell_type": "code",
   "execution_count": null,
   "id": "e0cb3942",
   "metadata": {},
   "outputs": [],
   "source": [
    "# 모델의 예측과 실제 정답값을 비교합니다.\n",
    "score = ACCURACY(val_y, y_pred)\n",
    "\n",
    "print(f\"모델의 정확도는 {score*100:.2f}% 입니다\")"
   ]
  },
  {
   "cell_type": "markdown",
   "id": "c8315342",
   "metadata": {},
   "source": [
    "----"
   ]
  },
  {
   "cell_type": "code",
   "execution_count": null,
   "id": "8ed458ca",
   "metadata": {},
   "outputs": [],
   "source": [
    "# 최종적으로 학습에 사용할 모든 리뷰를 설정해줍니다.\n",
    "X = train_data.reviews\n",
    "y = train_data.target\n",
    "\n",
    "vectorizer = CountVectorizer() #countvectorizer 생성\n",
    "vectorizer.fit(X) #countvectorizer 학습\n",
    "X = vectorizer.transform(X) #transform"
   ]
  },
  {
   "cell_type": "code",
   "execution_count": null,
   "id": "929db3cb",
   "metadata": {},
   "outputs": [],
   "source": [
    "model = LogisticRegression(max_iter=500) #객체에 모델 할당\n",
    "model.fit(X, y) #모델 학습"
   ]
  },
  {
   "cell_type": "code",
   "execution_count": null,
   "id": "08ca7f31",
   "metadata": {},
   "outputs": [],
   "source": [
    "from sklearn.metrics import accuracy_score\n",
    "\n",
    "#run model\n",
    "y_pred = model.predict(X[0])\n",
    "print('예측 라벨 : ', y_pred)\n",
    "print('실제 라벨 : ', train.target[0])"
   ]
  },
  {
   "cell_type": "code",
   "execution_count": null,
   "id": "a727d393",
   "metadata": {},
   "outputs": [],
   "source": [
    "vectorizer.inverse_transform(X[0]) #역변환하여 첫번째 문장의 단어들 확인"
   ]
  },
  {
   "cell_type": "code",
   "execution_count": null,
   "id": "621af495",
   "metadata": {},
   "outputs": [],
   "source": [
    "# 예측에 사용할 파일 읽기\n",
    "test = pd.read_csv(f'{data_path}/test.csv') \n",
    "\n",
    "# 파일 확인\n",
    "test.head() "
   ]
  },
  {
   "cell_type": "code",
   "execution_count": null,
   "id": "0e5be542",
   "metadata": {},
   "outputs": [],
   "source": [
    "# 문서 데이터 생성\n",
    "test_X = test.reviews \n",
    "\n",
    "# 문서 데이터 transform \n",
    "test_X_vect = vectorizer.transform(test_X) "
   ]
  },
  {
   "cell_type": "code",
   "execution_count": null,
   "id": "1f822c1e",
   "metadata": {},
   "outputs": [],
   "source": [
    "# test 데이터 예측\n",
    "pred = model.predict(test_X_vect) \n",
    "print(pred)"
   ]
  },
  {
   "cell_type": "code",
   "execution_count": null,
   "id": "294eabde",
   "metadata": {},
   "outputs": [],
   "source": []
  },
  {
   "cell_type": "code",
   "execution_count": null,
   "id": "591ba0d0",
   "metadata": {},
   "outputs": [],
   "source": []
  },
  {
   "cell_type": "markdown",
   "id": "337c2437",
   "metadata": {},
   "source": [
    "----"
   ]
  },
  {
   "cell_type": "code",
   "execution_count": null,
   "id": "09bfbbd9",
   "metadata": {},
   "outputs": [],
   "source": [
    "# 제출용 파일 불러오기\n",
    "submission = pd.read_csv(f'{data_path}/sample_submission.csv') \n",
    "\n",
    "submission.head() "
   ]
  },
  {
   "cell_type": "code",
   "execution_count": null,
   "id": "ca10d39b",
   "metadata": {},
   "outputs": [],
   "source": [
    "# 예측 값 넣어주기\n",
    "submission[\"target\"] = pred \n",
    "\n",
    "# 데이터가 잘 들어갔는지 확인합니다.\n",
    "submission.head() "
   ]
  },
  {
   "cell_type": "code",
   "execution_count": null,
   "id": "dba6bffa",
   "metadata": {},
   "outputs": [],
   "source": [
    "# submission을 csv 파일로 저장합니다.\n",
    "# index=False란 추가적인 id를 부여할 필요가 없다는 뜻입니다. \n",
    "# 정확한 채점을 위해 꼭 index=False를 넣어주세요.\n",
    "submission.to_csv(f'{data_path}/submission.csv',index=False)"
   ]
  },
  {
   "cell_type": "code",
   "execution_count": null,
   "id": "7e226c6a",
   "metadata": {},
   "outputs": [],
   "source": []
  }
 ],
 "metadata": {
  "kernelspec": {
   "display_name": "Python 3 (ipykernel)",
   "language": "python",
   "name": "python3"
  },
  "language_info": {
   "codemirror_mode": {
    "name": "ipython",
    "version": 3
   },
   "file_extension": ".py",
   "mimetype": "text/x-python",
   "name": "python",
   "nbconvert_exporter": "python",
   "pygments_lexer": "ipython3",
   "version": "3.9.13"
  }
 },
 "nbformat": 4,
 "nbformat_minor": 5
}
