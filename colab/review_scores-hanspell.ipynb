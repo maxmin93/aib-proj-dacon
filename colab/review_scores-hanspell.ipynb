{
 "cells": [
  {
   "cell_type": "markdown",
   "metadata": {
    "id": "IwyGpaov8oGG"
   },
   "source": [
    "## pretrained models: Word2Vec, FastText, Glove\n",
    "\n",
    "__사전학습모델 (이거 하나면 끝!)__\n",
    "\n",
    "- [깃허브 ratsgo/embedding](https://github.com/ratsgo/embedding/releases/tag/v1.0.1)\n",
    "  - 2019.07 [word-embeddings 다운로드](https://drive.google.com/file/d/1FeGIbSz2E1A63JZP_XIxnGaSRt7AhXFf/view)\n",
    "  - [한국어 임베딩 튜토리얼](https://ratsgo.github.io/embedding/)\n",
    "\n",
    "__그 밖에 사전학습모델 (Download)__\n",
    "\n",
    "- [국민대 자연어처리-Word2Vec,FastText](http://nlp.kookmin.ac.kr/kcc/word2vec/)\n",
    "  - Word2Vec 다운로드 가능: [word2vec-KCC150](http://203.246.112.71/kcc/word2vec/word2vec-KCC150.tar.gz)\n",
    "  - FastText 는 다운로드 안됨\n",
    "  - [임베딩 Demo](http://nlp.kookmin.ac.kr/kcc/word2vec/demo)\n",
    "- [Glove-kor 100차원 다운로드](http://nlp.stanford.edu/data/glove.6B.zip)\n",
    "  - 설명 페이지는 못찾았음\n",
    "- [fasttext.cc Resources](https://fasttext.cc/docs/en/crawl-vectors.html)\n",
    "  - FastText 다운로드 가능: [cc.ko.300.bin.gz](https://dl.fbaipublicfiles.com/fasttext/vectors-crawl/cc.ko.300.bin.gz)\n",
    "- [깃허브 Kyubyong/wordvectors](https://github.com/Kyubyong/wordvectors)\n",
    "  - 2016.12 [Korean Word2Vec](https://drive.google.com/open?id=0B0ZXk88koS2KbDhXdWg1Q2RydlU)\n",
    "  - 2017.02 [Korean FastText](https://www.dropbox.com/s/stt4y0zcp2c0iyb/ko.tar.gz?dl=0)\n",
    "\n",
    "__참고문서__ \n",
    "\n",
    "- Word2Vec\n",
    "  - [8) 사전 훈련된 워드 임베딩(Pre-trained Word Embedding)](https://wikidocs.net/33793)\n",
    "  - [자연어처리(NLP) 14일차 (Word2Vec 실습2)](https://omicro03.medium.com/%EC%9E%90%EC%97%B0%EC%96%B4%EC%B2%98%EB%A6%AC-nlp-14%EC%9D%BC%EC%B0%A8-word2vec-%EC%8B%A4%EC%8A%B52-8e518a358b6c)\n",
    "- Glove\n",
    "  - [자연어처리(NLP) 15일차 (GloVe)](https://omicro03.medium.com/%EC%9E%90%EC%97%B0%EC%96%B4%EC%B2%98%EB%A6%AC-nlp-15%EC%9D%BC%EC%B0%A8-glove-62ecdf424bbd)\n",
    "- FastText\n",
    "  - 블로그 [FastText Pre-trained 한국어 모델 사용기](https://inahjeon.dev/fasttext/)"
   ]
  },
  {
   "cell_type": "code",
   "execution_count": null,
   "metadata": {
    "colab": {
     "base_uri": "https://localhost:8080/"
    },
    "executionInfo": {
     "elapsed": 387,
     "status": "ok",
     "timestamp": 1658561238511,
     "user": {
      "displayName": "민병국",
      "userId": "09364981984888868466"
     },
     "user_tz": -540
    },
    "id": "i9Bnm950_UPA",
    "outputId": "91807342-c14b-4ed1-c5db-92832bbbe68e"
   },
   "outputs": [
    {
     "name": "stdout",
     "output_type": "stream",
     "text": [
      "/content\n"
     ]
    }
   ],
   "source": [
    "!cd ~\n",
    "!pwd\n",
    "# /content"
   ]
  },
  {
   "cell_type": "code",
   "execution_count": null,
   "metadata": {
    "colab": {
     "base_uri": "https://localhost:8080/"
    },
    "executionInfo": {
     "elapsed": 954,
     "status": "ok",
     "timestamp": 1658561281378,
     "user": {
      "displayName": "민병국",
      "userId": "09364981984888868466"
     },
     "user_tz": -540
    },
    "id": "srEfJXSWUFeP",
    "outputId": "1279b847-9531-46c1-9888-f4f1e986daf4"
   },
   "outputs": [
    {
     "name": "stdout",
     "output_type": "stream",
     "text": [
      "openjdk 11.0.15 2022-04-19\n",
      "OpenJDK Runtime Environment (build 11.0.15+10-Ubuntu-0ubuntu0.18.04.1)\n",
      "OpenJDK 64-Bit Server VM (build 11.0.15+10-Ubuntu-0ubuntu0.18.04.1, mixed mode, sharing)\n",
      "Linux 0ed377559f5b 5.4.188+ #1 SMP Sun Apr 24 10:03:06 PDT 2022 x86_64 x86_64 x86_64 GNU/Linux\n",
      "curl 7.58.0 (x86_64-pc-linux-gnu) libcurl/7.58.0 OpenSSL/1.1.1 zlib/1.2.11 libidn2/2.0.4 libpsl/0.19.1 (+libidn2/2.0.4) nghttp2/1.30.0 librtmp/2.3\n",
      "Release-Date: 2018-01-24\n",
      "Protocols: dict file ftp ftps gopher http https imap imaps ldap ldaps pop3 pop3s rtmp rtsp smb smbs smtp smtps telnet tftp \n",
      "Features: AsynchDNS IDN IPv6 Largefile GSS-API Kerberos SPNEGO NTLM NTLM_WB SSL libz TLS-SRP HTTP2 UnixSockets HTTPS-proxy PSL \n"
     ]
    }
   ],
   "source": [
    "!java --version\n",
    "# openjdk 11.0.15 2022-04-19\n",
    "\n",
    "!uname -a\n",
    "# x86_64 GNU/Linux\n",
    "\n",
    "!curl --version\n",
    "# curl 7.58.0"
   ]
  },
  {
   "cell_type": "markdown",
   "metadata": {
    "id": "dzBuIzkLeSzZ"
   },
   "source": [
    "### 한글 맞춤법 검사기 py-hanspell\n",
    "\n",
    "네이버 맞춤법 검사기를 이용한 파이썬용 한글 맞춤법 검사 라이브러리\n",
    "\n",
    "- [깃허브 py-hanspell](https://github.com/ssut/py-hanspell.git)\n"
   ]
  },
  {
   "cell_type": "code",
   "execution_count": 1,
   "metadata": {
    "colab": {
     "base_uri": "https://localhost:8080/"
    },
    "executionInfo": {
     "elapsed": 11158,
     "status": "ok",
     "timestamp": 1658817520362,
     "user": {
      "displayName": "민병국",
      "userId": "09364981984888868466"
     },
     "user_tz": -540
    },
    "id": "sAtWhea2Vr8Y",
    "outputId": "e57bb335-cdb2-4eb2-818b-6a914e8ee69b"
   },
   "outputs": [],
   "source": [
    "# !pip install git+https://github.com/ssut/py-hanspell.git\n",
    "\n",
    "from hanspell import spell_checker"
   ]
  },
  {
   "cell_type": "code",
   "execution_count": 2,
   "metadata": {
    "colab": {
     "base_uri": "https://localhost:8080/"
    },
    "executionInfo": {
     "elapsed": 16526,
     "status": "ok",
     "timestamp": 1658817552085,
     "user": {
      "displayName": "민병국",
      "userId": "09364981984888868466"
     },
     "user_tz": -540
    },
    "id": "ERhRJqf1XxcH",
    "outputId": "d86e3c85-107f-486e-8e3c-9f5c369f68d1"
   },
   "outputs": [
    {
     "name": "stdout",
     "output_type": "stream",
     "text": [
      "Checked(result=True, original='한글 맞춤법검사기 재대로작동돼는지테스트', checked='한글 맞춤법검사기 제대로 작동되는지 테스트', errors=1, words=OrderedDict([('한글', 0), ('맞춤법검사기', 0), ('제대로', 1), ('작동되는지', 1), ('테스트', 1)]), time=0.09182071685791016)\n",
      "True 한글 맞춤법검사기 제대로 작동되는지 테스트\n"
     ]
    }
   ],
   "source": [
    "from hanspell import spell_checker\n",
    " \n",
    "sent = \"한글 맞춤법검사기 재대로작동돼는지테스트\"\n",
    "spelled_sent = spell_checker.check(sent)\n",
    "checked_sent = spelled_sent.checked\n",
    "\n",
    "print(spelled_sent)\n",
    "print(spelled_sent.result, checked_sent)"
   ]
  },
  {
   "cell_type": "code",
   "execution_count": 3,
   "metadata": {
    "colab": {
     "base_uri": "https://localhost:8080/"
    },
    "executionInfo": {
     "elapsed": 16526,
     "status": "ok",
     "timestamp": 1658817552085,
     "user": {
      "displayName": "민병국",
      "userId": "09364981984888868466"
     },
     "user_tz": -540
    },
    "id": "ERhRJqf1XxcH",
    "outputId": "d86e3c85-107f-486e-8e3c-9f5c369f68d1"
   },
   "outputs": [
    {
     "name": "stdout",
     "output_type": "stream",
     "text": [
      "안녕하세요. 저는 한국인입니다. 이 문장은 한글로 작성됐습니다.\n"
     ]
    }
   ],
   "source": [
    "from hanspell import spell_checker\n",
    "\n",
    "checked = spell_checker.check(u'안녕 하세요. 저는 한국인 입니다. 이문장은 한글로 작성됬습니다.')\n",
    "if checked and checked.result:\n",
    "    print( checked.checked)\n",
    "    \n",
    "assert checked.checked == '안녕하세요. 저는 한국인입니다. 이 문장은 한글로 작성됐습니다.'"
   ]
  },
  {
   "cell_type": "code",
   "execution_count": 4,
   "metadata": {
    "colab": {
     "base_uri": "https://localhost:8080/"
    },
    "executionInfo": {
     "elapsed": 316,
     "status": "ok",
     "timestamp": 1658738784833,
     "user": {
      "displayName": "민병국",
      "userId": "09364981984888868466"
     },
     "user_tz": -540
    },
    "id": "IRsaG6hrMH7v",
    "outputId": "4afd0ca5-b3e2-4722-be05-2fa7c00d7d92"
   },
   "outputs": [],
   "source": [
    "from hanspell import spell_checker\n",
    "from tqdm.notebook import tqdm\n",
    "\n",
    "def ko_spellchecker(sent_arr):\n",
    "    checked_arr = []\n",
    "    for sent in tqdm(sent_arr):\n",
    "        try:\n",
    "            checked = spell_checker.check(sent)\n",
    "            if checked and checked.result:\n",
    "                checked_arr.append(checked.checked)\n",
    "            else:\n",
    "                checked_arr.append(None)\n",
    "        except:\n",
    "            checked_arr.append(None)\n",
    "    return checked_arr"
   ]
  },
  {
   "cell_type": "code",
   "execution_count": 5,
   "metadata": {},
   "outputs": [
    {
     "data": {
      "application/vnd.jupyter.widget-view+json": {
       "model_id": "7b838d0588644a20bfe206e296152b3c",
       "version_major": 2,
       "version_minor": 0
      },
      "text/plain": [
       "  0%|          | 0/20 [00:00<?, ?it/s]"
      ]
     },
     "metadata": {},
     "output_type": "display_data"
    },
    {
     "data": {
      "text/plain": [
       "['좋아요 처음 구입 싸게 했어요',\n",
       " '생각보다 잘 안돼요 매지 바른지 하루밖에 안됐는데 천 원가량 주고 사기 너무 아깝네요',\n",
       " '디자인은 괜찮은데 상품이 금이 가서 교환했는데 두 번째 받은 상품도 까져있고 안쪽에 금이 가져있네요  귀찮아서 그냥 쓰려고요 배송기사님은 친절하셨어요',\n",
       " '기전에 이 제품 말고 이마트 트레이더스에서만 팔던 프리미엄 제품을 사용했었습니다 샘플 써보고 마음에 들어 구매해 사용 중 같은 제품을 팔지 않아 할 수 없이 플러스를 구매했는데요 감고 나도 머리가 개운하지 않고 간지럽네요 저랑은 잘 안 맞는듯해요',\n",
       " '튼튼하고 손목을 잘 받쳐주네요',\n",
       " '배송은 먼저 구입하신 분들께서 오래 걸린다고 하여 참고 기다렸습니다 생각보다 일찍 도착해서 좋았고요 하루 전날 배송 아저씨가 전화 와서 내일 시사 이에 온다고 하더니 시에 왔어 요화나',\n",
       " '타이밍이 좋았는지 배송도 빠르고 맛있었어요 크기가 두 가지가 있길래 큰 걸 사봤는데 기존에 사 먹어봤던 거랑 크기 차이는 없네요 그래도 신선하고 맛있어요',\n",
       " '상품 퀄리티가 좋지 않아요',\n",
       " '재구매 평소 사용하던 제품이에요 한 번에 쟁여두려 여러 개 삽니다 ',\n",
       " '두께 때문에 별로네요',\n",
       " '재구매 항상 여기서만 주문해서 잘 쓰고 있어요 후딱 쓰기 좋아요 크기도 좋고',\n",
       " '화면하고 전혀 틀임',\n",
       " '재구매 좋은 제품 저렴하게 잘 구매했습니다',\n",
       " '너무 잘 사용했어요 감사합니다',\n",
       " '촉촉하고 피부 트러블이 없어요 구성비 갑',\n",
       " '다른 거는 다 만족하는데 나사 부분이 맘에 들어서',\n",
       " '재구매 별로 별로 별로 별로 불량품 교환이나 환불 미흡 고객센터 개인 휴대폰 번호 이제 다른 곳으로 주문 별로 별로',\n",
       " '튼튼하고 좋아요 깔끔하게 정리되어서 좋아요',\n",
       " '빠른 배송 신속한 서비스로 잘 받았습니다',\n",
       " '정말 골아서 왔어요 집에서 썩은 내가 진동해서 베란다 문 열고 그래도 내장이랑 분리해봤네요 오징어가 다 핑크색으로 변해있더라고요 내장과 분리해도 냄새가 나서 버려야 할 듯 완전 쓰레기를 돈 주고 샀네요 제발 이런 상품 팔지 마세요 동네 마트가 더 신선해요']"
      ]
     },
     "execution_count": 5,
     "metadata": {},
     "output_type": "execute_result"
    }
   ],
   "source": [
    "sent_arr = [\n",
    " '조아요 처음구입 싸게햇어요',\n",
    " '생각보다 잘 안돼요 매지 바른지 하루밖에 안됐는데 천원가량 주고 사기 너무 아깝네요',\n",
    " '디자인은괜찮은데 상품이 금이가서 교환했는데 두번째받은상품도 까져있고 안쪽에 금이가져있네요  귀찮아서 그냥쓰려구요 배송기사님은 친절하셨어요',\n",
    " '기전에 이 제품말고 이마트 트레이더스에서만 팔던 프리미엄 제품을 사용했었습니다 샘플 써보고 마음에 들어 구매해 사용중 같은 제품을 팔지 않아 할수 없이 플러스를 구매했는데요 감고나도 머리가 개운하지 않고 간지럽네요 저랑은 잘 안맞는듯해요',\n",
    " '튼튼하고 손목을 잘 받쳐주네요',\n",
    " '배송은 먼저 구입하신 분들께서 오래걸린다고 하여 참고 기달렸습니다 생각보다 일찍도착해서 좋았구요하루전날 배송 아저씨가 전화와서 내일시사이에 온다고 하더니 시에왔어요화나',\n",
    " '타이밍이 좋았는지 배송도 빠르고 맛있었어요 크기가 두가지가 있길래 큰걸 사봤는데 기존에 사먹어봤던거랑 크기 차이는 없네요 그래도 신선하고 맛있어요',\n",
    " '상품 퀄리티가 좋지 않아요',\n",
    " '재구매 평소 사용하던 제품이에요 한번에 쟁여두려 여러개 삽니다 ',\n",
    " '두께 때문에 별로네요',\n",
    " '재구매 항상 여기서만 주문해서 잘 쓰고있어요 후딱쓰기좋아요 크기도 좋구',\n",
    " '화면하고 전혀틀림',\n",
    " '재구매 좋은제품 저렴하게 잘 구매했습니다',\n",
    " '너무 잘사용했어요 감사합니다',\n",
    " '촉촉하고 피부트러블이없어요 가성비 갑',\n",
    " '다른거는 다만족하는데 나사부분이맘엥들어서',\n",
    " '재구매 별로별로별로별로 불량품 교환이나 환불 미흡 고객센터 개인 휴대폰번호 이제 다른곳으로 주문 별로별로',\n",
    " '튼튼하고좋아요 깔끔하게 정리되어서좋아요',\n",
    " '빠른배송 신속한서비스로 잘 받았습니다',\n",
    " '완전 골아서 왔어요 집에서 썩은내가 진동해서 베란다문 열고 그래도 내장이랑 분리 해봤네요 오징어가 다 핑크색으로 변해있더라구요 내장과 분리해도 냄새가나서 버려야할듯 완전 쓰레기를 돈주고 샀네요 제발 이런 상품 팔지 마세요 동네 마트가 더 산선해요'\n",
    "]\n",
    "\n",
    "ko_spellchecker(sent_arr)"
   ]
  },
  {
   "cell_type": "markdown",
   "metadata": {
    "id": "5B0s6Pc69iwJ"
   },
   "source": [
    "## 1. 리뷰 데이터 로딩\n",
    "\n",
    "### 전처리 단계별 실행:  노이즈 제거 + 맞춤법/띄어쓰기\n",
    "<a id='rm_noise'>&nbsp;</a>"
   ]
  },
  {
   "cell_type": "code",
   "execution_count": null,
   "metadata": {
    "colab": {
     "base_uri": "https://localhost:8080/"
    },
    "executionInfo": {
     "elapsed": 26833,
     "status": "ok",
     "timestamp": 1658817578898,
     "user": {
      "displayName": "민병국",
      "userId": "09364981984888868466"
     },
     "user_tz": -540
    },
    "id": "4twLncbS9vFm",
    "outputId": "1ad14a31-9060-4d1b-999a-d148fd222cf6"
   },
   "outputs": [],
   "source": [
    "from google.colab import drive\n",
    "drive.mount('/gdrive')\n",
    "\n",
    "# 파일을 못찾을 경우, 이렇게 확인을 해야 함!!\n",
    "import os\n",
    "os.chdir(\"/gdrive/MyDrive/Colab Notebooks/제주ICT-AI분석반-쇼핑몰분석/data\")\n",
    "!ls -l"
   ]
  },
  {
   "cell_type": "code",
   "execution_count": 6,
   "metadata": {
    "colab": {
     "base_uri": "https://localhost:8080/",
     "height": 206
    },
    "executionInfo": {
     "elapsed": 1081,
     "status": "ok",
     "timestamp": 1658817679141,
     "user": {
      "displayName": "민병국",
      "userId": "09364981984888868466"
     },
     "user_tz": -540
    },
    "id": "D2RHP0x_Wffx",
    "outputId": "bef14094-21c9-4a45-e3c3-0c7435d61188"
   },
   "outputs": [
    {
     "data": {
      "text/html": [
       "<div>\n",
       "<style scoped>\n",
       "    .dataframe tbody tr th:only-of-type {\n",
       "        vertical-align: middle;\n",
       "    }\n",
       "\n",
       "    .dataframe tbody tr th {\n",
       "        vertical-align: top;\n",
       "    }\n",
       "\n",
       "    .dataframe thead th {\n",
       "        text-align: right;\n",
       "    }\n",
       "</style>\n",
       "<table border=\"1\" class=\"dataframe\">\n",
       "  <thead>\n",
       "    <tr style=\"text-align: right;\">\n",
       "      <th></th>\n",
       "      <th>id</th>\n",
       "      <th>reviews</th>\n",
       "      <th>target</th>\n",
       "    </tr>\n",
       "  </thead>\n",
       "  <tbody>\n",
       "    <tr>\n",
       "      <th>0</th>\n",
       "      <td>0</td>\n",
       "      <td>조아요 처음구입 싸게햇어요</td>\n",
       "      <td>2</td>\n",
       "    </tr>\n",
       "    <tr>\n",
       "      <th>1</th>\n",
       "      <td>1</td>\n",
       "      <td>생각보다 잘 안돼요 매지 바른지 하루밖에 안됐는데ㅠㅠ 25천원가량 주고 사기 너무 ...</td>\n",
       "      <td>1</td>\n",
       "    </tr>\n",
       "    <tr>\n",
       "      <th>2</th>\n",
       "      <td>2</td>\n",
       "      <td>디자인은괜찮은데 상품이 금이가서 교환했는데 두번째받은상품도 까져있고 안쪽에 금이가져...</td>\n",
       "      <td>2</td>\n",
       "    </tr>\n",
       "    <tr>\n",
       "      <th>3</th>\n",
       "      <td>3</td>\n",
       "      <td>기전에 이 제품말고 이마트 트레이더스에서만 팔던 프리미엄 제품을 사용했었습니다. 샘...</td>\n",
       "      <td>2</td>\n",
       "    </tr>\n",
       "    <tr>\n",
       "      <th>4</th>\n",
       "      <td>4</td>\n",
       "      <td>튼튼하고 손목을 잘 받쳐주네요~</td>\n",
       "      <td>5</td>\n",
       "    </tr>\n",
       "  </tbody>\n",
       "</table>\n",
       "</div>"
      ],
      "text/plain": [
       "   id                                            reviews  target\n",
       "0   0                                     조아요 처음구입 싸게햇어요       2\n",
       "1   1  생각보다 잘 안돼요 매지 바른지 하루밖에 안됐는데ㅠㅠ 25천원가량 주고 사기 너무 ...       1\n",
       "2   2  디자인은괜찮은데 상품이 금이가서 교환했는데 두번째받은상품도 까져있고 안쪽에 금이가져...       2\n",
       "3   3  기전에 이 제품말고 이마트 트레이더스에서만 팔던 프리미엄 제품을 사용했었습니다. 샘...       2\n",
       "4   4                                  튼튼하고 손목을 잘 받쳐주네요~       5"
      ]
     },
     "execution_count": 6,
     "metadata": {},
     "output_type": "execute_result"
    }
   ],
   "source": [
    "import pandas as pd\n",
    "\n",
    "# data_path=\"/gdrive/MyDrive/Colab Notebooks/제주ICT-AI분석반-쇼핑몰분석/data\"\n",
    "data_path=\"~/Workspaces/keras/aib-proj-dacon/data\"\n",
    "\n",
    "# 원본 데이터\n",
    "df = pd.read_csv(f'{data_path}/train.csv')    # train\n",
    "# df = pd.read_csv(f'{data_path}/test.csv')   # test\n",
    "\n",
    "df.head()"
   ]
  },
  {
   "cell_type": "code",
   "execution_count": 15,
   "metadata": {},
   "outputs": [],
   "source": [
    "# 컬럼명 등 변수 설정\n",
    "\n",
    "text_col = 'reviews'           # 전처리 대상 컬럼\n",
    "temp_col = 'reviews_tmp'       # 전처리 임시 컬럼\n",
    "done_col = 'reviews_hanspell'  # 전처리 적용 컬럼"
   ]
  },
  {
   "cell_type": "code",
   "execution_count": 7,
   "metadata": {
    "colab": {
     "base_uri": "https://localhost:8080/"
    },
    "executionInfo": {
     "elapsed": 1228,
     "status": "ok",
     "timestamp": 1658817684074,
     "user": {
      "displayName": "민병국",
      "userId": "09364981984888868466"
     },
     "user_tz": -540
    },
    "id": "9ePAhCoLooZD",
    "outputId": "24b5be54-8920-4d83-ce88-d9c9b332a865"
   },
   "outputs": [
    {
     "name": "stdout",
     "output_type": "stream",
     "text": [
      "자모음 ==> 4584\n",
      "1     생각보다 잘 안돼요 매지 바른지 하루밖에 안됐는데ㅠㅠ 25천원가량 주고 사기 너무 ...\n",
      "2     디자인은괜찮은데 상품이 금이가서 교환했는데 두번째받은상품도 까져있고 안쪽에 금이가져...\n",
      "15                            다른거는 다만족하는데 나사부분이ㅈ맘엥ㆍㄴ들어서\n",
      "20                                     강추해요 너무 잘쓰고 있어ㅇᆢ\n",
      "21    먼지가적다고하는데 전적은지모르겠어요. 극세사라고하던데..어느면이극세사인지도모르겠고요...\n",
      "Name: reviews, dtype: object\n",
      "------------------------------------------------------------\n",
      "\n",
      "영어 ==> 537\n",
      "105    물건이 잘못왔습니다. 제가주문한건 A3000u 인데 A3000ua 가왔스빈다. 일단...\n",
      "154                                   px에있는 로카티 제질하고 달라요\n",
      "189    일단 상품은 좋지 못해요 버튼도 확인 안되서 as전화하니 남직원이 불친절 하네요 돈...\n",
      "198    분명 ad실내등 주문했는데 md실내등으로 왔네요 뜯고 작업할려니 뭐가안맞아서 보니 ...\n",
      "244                        옵션추가해서 LED불들어오는걸로구매했는데 불량이네요.\n",
      "Name: reviews, dtype: object\n",
      "------------------------------------------------------------\n",
      "\n",
      "숫자 ==> 2425\n",
      "1     생각보다 잘 안돼요 매지 바른지 하루밖에 안됐는데ㅠㅠ 25천원가량 주고 사기 너무 ...\n",
      "5     배송은 먼저 구입하신 분들께서 오래걸린다고 하여 참고 기달렸습니다 생각보다 일찍도착...\n",
      "39                    좋네요 성인6명이앉기딱일듯요 색상도 괜찮고 다리도 튼튼하네요\n",
      "42    양념통5개 오일병5개 주문했는데 양념통 뚜껑하나가 스텐마감이 안되어있어서 검지손가락...\n",
      "66                 가볍고 폭신하고 예뻐요^^ 베이지샀는데 이뻐서 블랙구매했어요^^9\n",
      "Name: reviews, dtype: object\n",
      "------------------------------------------------------------\n",
      "\n",
      "특수문자 ==> 13360\n",
      "3    기전에 이 제품말고 이마트 트레이더스에서만 팔던 프리미엄 제품을 사용했었습니다. 샘...\n",
      "4                                    튼튼하고 손목을 잘 받쳐주네요~\n",
      "5    배송은 먼저 구입하신 분들께서 오래걸린다고 하여 참고 기달렸습니다 생각보다 일찍도착...\n",
      "6    타이밍이 좋았는지 배송도 빠르고 맛있었어요! 크기가 두가지가 있길래 큰걸 사봤는데 ...\n",
      "8                재구매 평소 사용하던 제품이에요. 한번에 쟁여두려 여러개 삽니다 .\n",
      "Name: reviews, dtype: object\n",
      "------------------------------------------------------------\n",
      "\n",
      "웹주소 ==> 2\n",
      "9038     문이 정확히 맞지 않아 세게 밀어야 닫히네요. 교환하기 귀찮아서 그냥 씁니다.htt...\n",
      "19521    설치하기 편하고 쿠션감있으면서 통풍잘되요. 설치후기 블로그에 올려봤어요. https...\n",
      "Name: reviews, dtype: object\n",
      "------------------------------------------------------------\n",
      "\n",
      "이메일 ==> 0\n",
      "Series([], Name: reviews, dtype: object)\n",
      "------------------------------------------------------------\n",
      "\n",
      "전화번호 ==> 4\n",
      "9038     문이 정확히 맞지 않아 세게 밀어야 닫히네요. 교환하기 귀찮아서 그냥 씁니다.htt...\n",
      "14611    vzgshxbbshw yzgshwjvㄷㄱㄷㄱㅈㅂㅈㄱ싱ㅈㅇㄷㅂㄱ디ㅡㅅㅂㅈㄱㄷㅂㅈ438...\n",
      "15251    틈이 벌어져서 버블 효과 하나두 없음.. 버블기둥에 용접이 안되서 버블효과가 없어요...\n",
      "24954    잘받았습니다 잘받았어요 사이즈는크지만 위아래 높이는 낮아서 큰 해산물은 잘안되네요 ...\n",
      "Name: reviews, dtype: object\n"
     ]
    }
   ],
   "source": [
    "# 한글 자모음 찾아보기 ==> 4584\n",
    "kor_df = df[ df[text_col].str.count(r'[ㄱ-ㅎ|ㅏ-ㅣ]+')>0]\n",
    "print('자모음 ==>', len(kor_df))\n",
    "print(kor_df[text_col].head())\n",
    "\n",
    "print('--'*30, end='\\n\\n')\n",
    "\n",
    "# 영어 찾아보기 ==> 537\n",
    "eng_df = df[ df[text_col].str.count(r'[a-zA-Z]+')>0]\n",
    "print('영어 ==>', len(eng_df))\n",
    "print(eng_df[text_col].head())\n",
    "\n",
    "print('--'*30, end='\\n\\n')\n",
    "\n",
    "# 숫자 찾아보기 ==> 2425\n",
    "num_df = df[ df[text_col].str.count(r'[0-9]+')>0]\n",
    "print('숫자 ==>', len(num_df))\n",
    "print(num_df[text_col].head())\n",
    "\n",
    "print('--'*30, end='\\n\\n')\n",
    "\n",
    "# 특수문자 찾아보기 ==> 13360\n",
    "spc_df = df[ df[text_col].str.count(r'[\\{\\}\\[\\]\\/?.,;:|\\)*~`!^\\-_+<>@\\#$%&\\\\\\=\\(\\'\\\"]+')>0]\n",
    "print('특수문자 ==>', len(spc_df))\n",
    "print(spc_df[text_col].head())\n",
    "\n",
    "print('--'*30, end='\\n\\n')\n",
    "\n",
    "# 웹주소 찾아보기 ==> 2\n",
    "num_df = df[ df[text_col].str.count(r'http[s]?://(?:[a-zA-Z]|[0-9]|[$-_@.&+]|[!*\\(\\),]|(?:%[0-9a-fA-F][0-9a-fA-F]))+')>0]\n",
    "print('웹주소 ==>', len(num_df))\n",
    "print(num_df[text_col].head())\n",
    "\n",
    "print('--'*30, end='\\n\\n')\n",
    "\n",
    "# 이메일 찾아보기 ==> 0\n",
    "num_df = df[ df[text_col].str.count(r'([A-Za-z0-9]+[.-_])*[A-Za-z0-9]+@[A-Za-z0-9-]+(\\.[A-Z|a-z]{2,})+')>0]\n",
    "print('이메일 ==>', len(num_df))\n",
    "print(num_df[text_col].head())\n",
    "\n",
    "print('--'*30, end='\\n\\n')\n",
    "\n",
    "# 전화번호 찾아보기 ==> 4\n",
    "num_df = df[ df[text_col].str.count(r'0[0-9]{1,2}[-]{0,1}[0-9]{3,4}[-]{0,1}[0-9]{4}')>0]\n",
    "print('전화번호 ==>', len(num_df))\n",
    "print(num_df[text_col].head())\n"
   ]
  },
  {
   "cell_type": "code",
   "execution_count": 9,
   "metadata": {
    "id": "DVfnpFXwwCw-"
   },
   "outputs": [],
   "source": [
    "# 한글 자모음 제거\n",
    "df[temp_col] = df[text_col].replace(r'[ㄱ-ㅎ|ㅏ-ㅣ]+', '', regex=True)\n",
    "# 나중에 제거하기 보다는 먼저 공백으로 치환해 형태소 분석 결과를 더 좋게 만들어 보고자 함!\n",
    "\n",
    "# 웹주소 제거\n",
    "df[temp_col] = df[temp_col].replace(r'http[s]?://(?:[a-zA-Z]|[0-9]|[$-_@.&+]|[!*\\(\\),]|(?:%[0-9a-fA-F][0-9a-fA-F]))+', '', regex=True)\n",
    "# 이메일 제거\n",
    "df[temp_col] = df[temp_col].replace(r'([A-Za-z0-9]+[.-_])*[A-Za-z0-9]+@[A-Za-z0-9-]+(\\.[A-Z|a-z]{2,})+', '', regex=True)\n",
    "# 전화번호 제거\n",
    "df[temp_col] = df[temp_col].replace(r'0[0-9]{1,2}[-]{0,1}[0-9]{3,4}[-]{0,1}[0-9]{4}', '', regex=True)"
   ]
  },
  {
   "cell_type": "code",
   "execution_count": 10,
   "metadata": {},
   "outputs": [
    {
     "data": {
      "text/plain": [
       "['조아요 처음구입 싸게햇어요',\n",
       " '생각보다 잘 안돼요 매지 바른지 하루밖에 안됐는데 천원가량 주고 사기 너무 아깝네요',\n",
       " '디자인은괜찮은데 상품이 금이가서 교환했는데 두번째받은상품도 까져있고 안쪽에 금이가져있네요  귀찮아서 그냥쓰려구요 배송기사님은 친절하셨어요',\n",
       " '기전에 이 제품말고 이마트 트레이더스에서만 팔던 프리미엄 제품을 사용했었습니다 샘플 써보고 마음에 들어 구매해 사용중 같은 제품을 팔지 않아 할수 없이 플러스를 구매했는데요 감고나도 머리가 개운하지 않고 간지럽네요 저랑은 잘 안맞는듯해요',\n",
       " '튼튼하고 손목을 잘 받쳐주네요',\n",
       " '배송은 먼저 구입하신 분들께서 오래걸린다고 하여 참고 기달렸습니다 생각보다 일찍도착해서 좋았구요하루전날 배송 아저씨가 전화와서 내일시사이에 온다고 하더니 시에왔어요화나',\n",
       " '타이밍이 좋았는지 배송도 빠르고 맛있었어요 크기가 두가지가 있길래 큰걸 사봤는데 기존에 사먹어봤던거랑 크기 차이는 없네요 그래도 신선하고 맛있어요',\n",
       " '상품 퀄리티가 좋지 않아요',\n",
       " '재구매 평소 사용하던 제품이에요 한번에 쟁여두려 여러개 삽니다 ',\n",
       " '두께 때문에 별로네요',\n",
       " '재구매 항상 여기서만 주문해서 잘 쓰고있어요 후딱쓰기좋아요 크기도 좋구',\n",
       " '화면하고 전혀틀림',\n",
       " '재구매 좋은제품 저렴하게 잘 구매했습니다',\n",
       " '너무 잘사용했어요 감사합니다',\n",
       " '촉촉하고 피부트러블이없어요 가성비 갑',\n",
       " '다른거는 다만족하는데 나사부분이맘엥들어서',\n",
       " '재구매 별로별로별로별로 불량품 교환이나 환불 미흡 고객센터 개인 휴대폰번호 이제 다른곳으로 주문 별로별로',\n",
       " '튼튼하고좋아요 깔끔하게 정리되어서좋아요',\n",
       " '빠른배송 신속한서비스로 잘 받았습니다',\n",
       " '완전 골아서 왔어요 집에서 썩은내가 진동해서 베란다문 열고 그래도 내장이랑 분리 해봤네요 오징어가 다 핑크색으로 변해있더라구요 내장과 분리해도 냄새가나서 버려야할듯 완전 쓰레기를 돈주고 샀네요 제발 이런 상품 팔지 마세요 동네 마트가 더 산선해요']"
      ]
     },
     "execution_count": 10,
     "metadata": {},
     "output_type": "execute_result"
    }
   ],
   "source": [
    "# 한글만 남기고 모두 제거\n",
    "df[temp_col] = df[temp_col].replace(r'[^가-힣 ]+', '', regex=True)\n",
    "\n",
    "# 확인\n",
    "df.iloc[:20][temp_col].tolist()"
   ]
  },
  {
   "cell_type": "markdown",
   "metadata": {},
   "source": [
    "### 전처리2: 한국어 맞춤법/띄어쓰기\n",
    "<a id='hanspell'>&nbsp;</a>"
   ]
  },
  {
   "cell_type": "code",
   "execution_count": 11,
   "metadata": {},
   "outputs": [
    {
     "name": "stdout",
     "output_type": "stream",
     "text": [
      "count 500-char: 0\n",
      "\n"
     ]
    }
   ],
   "source": [
    "# 공백 제외 글자수\n",
    "import re\n",
    "df['chr_size'] = df[temp_col].apply(lambda s: len(re.findall(r'\\S',s)) )\n",
    "\n",
    "# 500자 이상 pos_tokens 확인 (없음)\n",
    "print('count 500-char:', len(df[ df['chr_size']>=500 ]), end='\\n\\n' )\n",
    "\n",
    "# ==> hanspell 적용 가능"
   ]
  },
  {
   "cell_type": "code",
   "execution_count": 12,
   "metadata": {},
   "outputs": [
    {
     "data": {
      "application/vnd.jupyter.widget-view+json": {
       "model_id": "20933b9f70934eb9bc650dbd49160542",
       "version_major": 2,
       "version_minor": 0
      },
      "text/plain": [
       "  0%|          | 0/25000 [00:00<?, ?it/s]"
      ]
     },
     "metadata": {},
     "output_type": "display_data"
    },
    {
     "name": "stdout",
     "output_type": "stream",
     "text": [
      "elapsed_time(sec) = 1767.3467218875885\n",
      "NaN.size = 1\n"
     ]
    },
    {
     "data": {
      "text/plain": [
       "0                                     좋아요 처음 구입 싸게 했어요\n",
       "1      생각보다 잘 안돼요 매지 바른지 하루밖에 안됐는데 천 원가량 주고 사기 너무 아깝네요\n",
       "2    디자인은 괜찮은데 상품이 금이 가서 교환했는데 두 번째 받은 상품도 까져있고 안쪽에...\n",
       "3    기전에 이 제품 말고 이마트 트레이더스에서만 팔던 프리미엄 제품을 사용했었습니다 샘...\n",
       "4                                     튼튼하고 손목을 잘 받쳐주네요\n",
       "Name: reviews_hanspell, dtype: object"
      ]
     },
     "execution_count": 12,
     "metadata": {},
     "output_type": "execute_result"
    }
   ],
   "source": [
    "import time\n",
    "start = time.time()\n",
    "\n",
    "# 띄어쓰기, 맞춤법 수정\n",
    "df[done_col] = ko_spellchecker(df[temp_col].tolist())\n",
    "print(\"elapsed_time(sec) =\", time.time() - start)\n",
    "\n",
    "# NaN 체크\n",
    "print('NaN.size =', df[done_col].isna().sum() )\n",
    "df[done_col].head()"
   ]
  },
  {
   "cell_type": "code",
   "execution_count": 21,
   "metadata": {},
   "outputs": [
    {
     "name": "stdout",
     "output_type": "stream",
     "text": [
      "한글자 리뷰수= 14\n"
     ]
    },
    {
     "name": "stderr",
     "output_type": "stream",
     "text": [
      "/var/folders/s1/6xwbd1gj1hdbyj9phsr7nc5w0000gn/T/ipykernel_9935/1177766807.py:2: SettingWithCopyWarning: \n",
      "A value is trying to be set on a copy of a slice from a DataFrame.\n",
      "Try using .loc[row_indexer,col_indexer] = value instead\n",
      "\n",
      "See the caveats in the documentation: https://pandas.pydata.org/pandas-docs/stable/user_guide/indexing.html#returning-a-view-versus-a-copy\n",
      "  df['tkn_size'] = df.loc[~df[done_col].isna(), done_col].apply(lambda s: len(s.split()))\n",
      "/var/folders/s1/6xwbd1gj1hdbyj9phsr7nc5w0000gn/T/ipykernel_9935/1177766807.py:6: SettingWithCopyWarning: \n",
      "A value is trying to be set on a copy of a slice from a DataFrame.\n",
      "Try using .loc[row_indexer,col_indexer] = value instead\n",
      "\n",
      "See the caveats in the documentation: https://pandas.pydata.org/pandas-docs/stable/user_guide/indexing.html#returning-a-view-versus-a-copy\n",
      "  df['chr_size'] = df.loc[~df[done_col].isna(), done_col].apply(lambda s: len(re.findall(r'\\S',s)) )\n"
     ]
    },
    {
     "data": {
      "text/html": [
       "<div>\n",
       "<style scoped>\n",
       "    .dataframe tbody tr th:only-of-type {\n",
       "        vertical-align: middle;\n",
       "    }\n",
       "\n",
       "    .dataframe tbody tr th {\n",
       "        vertical-align: top;\n",
       "    }\n",
       "\n",
       "    .dataframe thead th {\n",
       "        text-align: right;\n",
       "    }\n",
       "</style>\n",
       "<table border=\"1\" class=\"dataframe\">\n",
       "  <thead>\n",
       "    <tr style=\"text-align: right;\">\n",
       "      <th></th>\n",
       "      <th>id</th>\n",
       "      <th>reviews</th>\n",
       "      <th>target</th>\n",
       "      <th>reviews_tmp</th>\n",
       "      <th>char_size</th>\n",
       "      <th>reviews_hanspell</th>\n",
       "      <th>tkn_size</th>\n",
       "      <th>chr_size</th>\n",
       "    </tr>\n",
       "  </thead>\n",
       "  <tbody>\n",
       "    <tr>\n",
       "      <th>2609</th>\n",
       "      <td>2609</td>\n",
       "      <td>아... .. ... .. ... .. ...</td>\n",
       "      <td>2</td>\n",
       "      <td>아</td>\n",
       "      <td>1</td>\n",
       "      <td>아</td>\n",
       "      <td>1</td>\n",
       "      <td>1</td>\n",
       "    </tr>\n",
       "    <tr>\n",
       "      <th>6477</th>\n",
       "      <td>6477</td>\n",
       "      <td>하....</td>\n",
       "      <td>2</td>\n",
       "      <td>하</td>\n",
       "      <td>1</td>\n",
       "      <td>하</td>\n",
       "      <td>1</td>\n",
       "      <td>1</td>\n",
       "    </tr>\n",
       "    <tr>\n",
       "      <th>6636</th>\n",
       "      <td>6636</td>\n",
       "      <td>ㅇ로ㅗㅓㅓㅓㅓ</td>\n",
       "      <td>5</td>\n",
       "      <td>로</td>\n",
       "      <td>1</td>\n",
       "      <td>로</td>\n",
       "      <td>1</td>\n",
       "      <td>1</td>\n",
       "    </tr>\n",
       "    <tr>\n",
       "      <th>6780</th>\n",
       "      <td>6780</td>\n",
       "      <td>휴ㅠㅠㅠㅠㅜ</td>\n",
       "      <td>5</td>\n",
       "      <td>휴</td>\n",
       "      <td>1</td>\n",
       "      <td>휴</td>\n",
       "      <td>1</td>\n",
       "      <td>1</td>\n",
       "    </tr>\n",
       "    <tr>\n",
       "      <th>7675</th>\n",
       "      <td>7675</td>\n",
       "      <td>123445667665433므ㅎㅎ</td>\n",
       "      <td>2</td>\n",
       "      <td>므</td>\n",
       "      <td>1</td>\n",
       "      <td>므</td>\n",
       "      <td>1</td>\n",
       "      <td>1</td>\n",
       "    </tr>\n",
       "    <tr>\n",
       "      <th>11322</th>\n",
       "      <td>11322</td>\n",
       "      <td>ㄷ근 ㄴㄷㆍㅊ</td>\n",
       "      <td>5</td>\n",
       "      <td>근</td>\n",
       "      <td>1</td>\n",
       "      <td>근</td>\n",
       "      <td>1</td>\n",
       "      <td>1</td>\n",
       "    </tr>\n",
       "    <tr>\n",
       "      <th>12113</th>\n",
       "      <td>12113</td>\n",
       "      <td>굿!!!^^</td>\n",
       "      <td>5</td>\n",
       "      <td>굿</td>\n",
       "      <td>1</td>\n",
       "      <td>굿</td>\n",
       "      <td>1</td>\n",
       "      <td>1</td>\n",
       "    </tr>\n",
       "    <tr>\n",
       "      <th>13516</th>\n",
       "      <td>13516</td>\n",
       "      <td>ㅇㄻ앎 ㄴㅇㄷ</td>\n",
       "      <td>2</td>\n",
       "      <td>앎</td>\n",
       "      <td>1</td>\n",
       "      <td>앎</td>\n",
       "      <td>1</td>\n",
       "      <td>1</td>\n",
       "    </tr>\n",
       "    <tr>\n",
       "      <th>15785</th>\n",
       "      <td>15785</td>\n",
       "      <td>굿 Hgfvjoihbvfrtujbccswetuuhvcfgyhbbvgdthuijhbv...</td>\n",
       "      <td>4</td>\n",
       "      <td>굿</td>\n",
       "      <td>1</td>\n",
       "      <td>굿</td>\n",
       "      <td>1</td>\n",
       "      <td>1</td>\n",
       "    </tr>\n",
       "    <tr>\n",
       "      <th>17373</th>\n",
       "      <td>17373</td>\n",
       "      <td>ㅑㅗ퓨ㅡㅏㅎ</td>\n",
       "      <td>2</td>\n",
       "      <td>퓨</td>\n",
       "      <td>1</td>\n",
       "      <td>퓨</td>\n",
       "      <td>1</td>\n",
       "      <td>1</td>\n",
       "    </tr>\n",
       "    <tr>\n",
       "      <th>21117</th>\n",
       "      <td>21117</td>\n",
       "      <td>ㅂㄷ로ㅗㅜㅜㅡ</td>\n",
       "      <td>2</td>\n",
       "      <td>로</td>\n",
       "      <td>1</td>\n",
       "      <td>로</td>\n",
       "      <td>1</td>\n",
       "      <td>1</td>\n",
       "    </tr>\n",
       "    <tr>\n",
       "      <th>22443</th>\n",
       "      <td>22443</td>\n",
       "      <td>쩝...........</td>\n",
       "      <td>1</td>\n",
       "      <td>쩝</td>\n",
       "      <td>1</td>\n",
       "      <td>쩝</td>\n",
       "      <td>1</td>\n",
       "      <td>1</td>\n",
       "    </tr>\n",
       "    <tr>\n",
       "      <th>24106</th>\n",
       "      <td>24106</td>\n",
       "      <td>ㅈㆍㄷ요~~~~~~</td>\n",
       "      <td>5</td>\n",
       "      <td>요</td>\n",
       "      <td>1</td>\n",
       "      <td>요</td>\n",
       "      <td>1</td>\n",
       "      <td>1</td>\n",
       "    </tr>\n",
       "    <tr>\n",
       "      <th>24243</th>\n",
       "      <td>24243</td>\n",
       "      <td>굿~~~!!!!/~:</td>\n",
       "      <td>5</td>\n",
       "      <td>굿</td>\n",
       "      <td>1</td>\n",
       "      <td>굿</td>\n",
       "      <td>1</td>\n",
       "      <td>1</td>\n",
       "    </tr>\n",
       "  </tbody>\n",
       "</table>\n",
       "</div>"
      ],
      "text/plain": [
       "          id                                            reviews  target  \\\n",
       "2609    2609                          아... .. ... .. ... .. ...       2   \n",
       "6477    6477                                              하....       2   \n",
       "6636    6636                                            ㅇ로ㅗㅓㅓㅓㅓ       5   \n",
       "6780    6780                                             휴ㅠㅠㅠㅠㅜ       5   \n",
       "7675    7675                                 123445667665433므ㅎㅎ       2   \n",
       "11322  11322                                            ㄷ근 ㄴㄷㆍㅊ       5   \n",
       "12113  12113                                             굿!!!^^       5   \n",
       "13516  13516                                            ㅇㄻ앎 ㄴㅇㄷ       2   \n",
       "15785  15785  굿 Hgfvjoihbvfrtujbccswetuuhvcfgyhbbvgdthuijhbv...       4   \n",
       "17373  17373                                             ㅑㅗ퓨ㅡㅏㅎ       2   \n",
       "21117  21117                                            ㅂㄷ로ㅗㅜㅜㅡ       2   \n",
       "22443  22443                                       쩝...........       1   \n",
       "24106  24106                                         ㅈㆍㄷ요~~~~~~       5   \n",
       "24243  24243                                        굿~~~!!!!/~:       5   \n",
       "\n",
       "      reviews_tmp  char_size reviews_hanspell  tkn_size  chr_size  \n",
       "2609      아                1          아               1         1  \n",
       "6477            하          1                하         1         1  \n",
       "6636            로          1                로         1         1  \n",
       "6780            휴          1                휴         1         1  \n",
       "7675            므          1                므         1         1  \n",
       "11322          근           1               근          1         1  \n",
       "12113           굿          1                굿         1         1  \n",
       "13516          앎           1               앎          1         1  \n",
       "15785          굿           1               굿          1         1  \n",
       "17373           퓨          1                퓨         1         1  \n",
       "21117           로          1                로         1         1  \n",
       "22443           쩝          1                쩝         1         1  \n",
       "24106           요          1                요         1         1  \n",
       "24243           굿          1                굿         1         1  "
      ]
     },
     "execution_count": 21,
     "metadata": {},
     "output_type": "execute_result"
    }
   ],
   "source": [
    "# 토큰수\n",
    "df['tkn_size'] = df.loc[~df[done_col].isna(), done_col].apply(lambda s: len(s.split()))\n",
    "\n",
    "# 공백 제외 글자수\n",
    "import re\n",
    "df['chr_size'] = df.loc[~df[done_col].isna(), done_col].apply(lambda s: len(re.findall(r'\\S',s)) )\n",
    "\n",
    "# char_size==1 확인 (15건)\n",
    "print('한글자 리뷰수=', len(df[ df['chr_size']==1 ]))\n",
    "df[ df['chr_size']==1 ].head(20)\n",
    "# ==> '굿' 외에는 의미 없음"
   ]
  },
  {
   "cell_type": "code",
   "execution_count": 22,
   "metadata": {},
   "outputs": [
    {
     "name": "stdout",
     "output_type": "stream",
     "text": [
      "Before 공백, 한글자 제거: len= 24999\n",
      "count NaN: 0\n",
      "\n",
      "count 1-char: 11\n",
      "\n",
      "After 공백, 한글자 제거: len= 24988\n"
     ]
    }
   ],
   "source": [
    "import numpy as np\n",
    "print('Before 공백, 한글자 제거: len=', len(df))\n",
    "\n",
    "# 공백을 NaN 으로\n",
    "df = df.replace(r'^\\s*$', np.NaN, regex=True)\n",
    "# NaN 확인 (pos_tokens=0)\n",
    "print('count NaN:', df[done_col].isna().sum(), end='\\n\\n' )\n",
    "# NaN 포함열 삭제\n",
    "df = df.dropna()\n",
    "\n",
    "# 한글자 pos_tokens 확인 (pos_tokens=12)\n",
    "print('count 1-char:', len(df[ (df['chr_size']==1) & ~(df[done_col].str.contains('굿')) ]), end='\\n\\n' )\n",
    "# 한글자 pos_tokens 포함열 삭제 (단, '굿' 제외)\n",
    "df = df.drop( df[ (df['chr_size']==1) & ~(df[done_col].str.contains('굿')) ].index )\n",
    "\n",
    "print('After 공백, 한글자 제거: len=', len(df))\n",
    "# ==> 모두 12행 제거"
   ]
  },
  {
   "cell_type": "code",
   "execution_count": 23,
   "metadata": {
    "colab": {
     "base_uri": "https://localhost:8080/"
    },
    "executionInfo": {
     "elapsed": 300,
     "status": "ok",
     "timestamp": 1658733898762,
     "user": {
      "displayName": "민병국",
      "userId": "09364981984888868466"
     },
     "user_tz": -540
    },
    "id": "DQQUm4uik6Vt",
    "outputId": "f6158ae6-f322-4845-9c79-76ee55b63d9d"
   },
   "outputs": [
    {
     "name": "stdout",
     "output_type": "stream",
     "text": [
      "1 47 => [1, 2, 3, 4, 5, 6, 7, 8, 9, 10, 11, 12, 13, 14, 15, 16, 17, 18, 19, 20, 21, 22, 23, 24, 25, 26, 27, 28, 29, 30, 31, 32, 33, 34, 35, 36, 37, 38, 39, 40, 41, 42, 43, 44, 45, 46, 47]\n",
      "[258, 733, 1866, 2656, 2495, 2088, 1744, 1470, 1208, 977, 903, 802, 708, 675, 665, 606, 538, 468, 450, 417, 349, 317, 313, 300, 249, 261, 242, 194, 157, 141, 149, 119, 99, 89, 86, 61, 39, 29, 28, 10, 10, 5, 5, 3, 2, 1, 3]\n",
      "\n"
     ]
    },
    {
     "data": {
      "text/plain": [
       "count    24988.000000\n",
       "mean        10.707940\n",
       "std          7.902725\n",
       "min          1.000000\n",
       "25%          5.000000\n",
       "50%          8.000000\n",
       "75%         15.000000\n",
       "max         47.000000\n",
       "Name: tkn_size, dtype: float64"
      ]
     },
     "execution_count": 23,
     "metadata": {},
     "output_type": "execute_result"
    }
   ],
   "source": [
    "stat_dict = df['tkn_size'].value_counts().to_dict()\n",
    "min_x, max_x = min(stat_dict.keys()), max(stat_dict.keys())\n",
    "\n",
    "x_values = list(range(min_x, max_x+1))\n",
    "y_values = [stat_dict.get(x,0) for x in x_values]\n",
    "print(min_x, max_x, '=>',x_values)\n",
    "print(y_values)\n",
    "print()\n",
    "df['tkn_size'].describe()"
   ]
  },
  {
   "cell_type": "code",
   "execution_count": 24,
   "metadata": {
    "colab": {
     "base_uri": "https://localhost:8080/",
     "height": 350
    },
    "executionInfo": {
     "elapsed": 703,
     "status": "ok",
     "timestamp": 1658662099757,
     "user": {
      "displayName": "민병국",
      "userId": "09364981984888868466"
     },
     "user_tz": -540
    },
    "id": "KlXXdR6ilKl4",
    "outputId": "aba3824e-b185-4981-d00f-e901f349b7ac"
   },
   "outputs": [
    {
     "data": {
      "image/png": "[encoded data removed]",
      "text/plain": [
       "<Figure size 1008x360 with 1 Axes>"
      ]
     },
     "metadata": {
      "needs_background": "light"
     },
     "output_type": "display_data"
    }
   ],
   "source": [
    "import matplotlib.pyplot as plt\n",
    "\n",
    "# 중간값(8)만 빨간색\n",
    "colors = [ 'lightblue' if x != 8 else 'darkred' for x in x_values ]\n",
    "\n",
    "plt.figure(figsize = (14, 5))\n",
    "plt.bar(x_values, y_values, color=colors)\n",
    "plt.title(\"Tokens size\")\n",
    "plt.xlabel(\"Token size\")\n",
    "plt.ylabel(\"Number of Reviews\")\n",
    "plt.show()"
   ]
  },
  {
   "cell_type": "code",
   "execution_count": 26,
   "metadata": {
    "id": "5vQ6QLVsuHU-"
   },
   "outputs": [],
   "source": [
    "# 불필요한 컬럼 제거\n",
    "df = df.drop([temp_col], axis='columns')"
   ]
  },
  {
   "cell_type": "code",
   "execution_count": 27,
   "metadata": {
    "colab": {
     "base_uri": "https://localhost:8080/",
     "height": 572
    },
    "executionInfo": {
     "elapsed": 450,
     "status": "ok",
     "timestamp": 1658733930496,
     "user": {
      "displayName": "민병국",
      "userId": "09364981984888868466"
     },
     "user_tz": -540
    },
    "id": "z5ZhUlHbmQda",
    "outputId": "58938dcb-b026-47c8-a2e7-bce86b6bc690"
   },
   "outputs": [
    {
     "data": {
      "text/html": [
       "<div>\n",
       "<style scoped>\n",
       "    .dataframe tbody tr th:only-of-type {\n",
       "        vertical-align: middle;\n",
       "    }\n",
       "\n",
       "    .dataframe tbody tr th {\n",
       "        vertical-align: top;\n",
       "    }\n",
       "\n",
       "    .dataframe thead th {\n",
       "        text-align: right;\n",
       "    }\n",
       "</style>\n",
       "<table border=\"1\" class=\"dataframe\">\n",
       "  <thead>\n",
       "    <tr style=\"text-align: right;\">\n",
       "      <th></th>\n",
       "      <th>id</th>\n",
       "      <th>reviews</th>\n",
       "      <th>target</th>\n",
       "      <th>reviews_hanspell</th>\n",
       "      <th>tkn_size</th>\n",
       "      <th>chr_size</th>\n",
       "    </tr>\n",
       "  </thead>\n",
       "  <tbody>\n",
       "    <tr>\n",
       "      <th>0</th>\n",
       "      <td>0</td>\n",
       "      <td>조아요 처음구입 싸게햇어요</td>\n",
       "      <td>2</td>\n",
       "      <td>좋아요 처음 구입 싸게 했어요</td>\n",
       "      <td>5</td>\n",
       "      <td>12</td>\n",
       "    </tr>\n",
       "    <tr>\n",
       "      <th>1</th>\n",
       "      <td>1</td>\n",
       "      <td>생각보다 잘 안돼요 매지 바른지 하루밖에 안됐는데ㅠㅠ 25천원가량 주고 사기 너무 ...</td>\n",
       "      <td>1</td>\n",
       "      <td>생각보다 잘 안돼요 매지 바른지 하루밖에 안됐는데 천 원가량 주고 사기 너무 아깝네요</td>\n",
       "      <td>13</td>\n",
       "      <td>35</td>\n",
       "    </tr>\n",
       "    <tr>\n",
       "      <th>2</th>\n",
       "      <td>2</td>\n",
       "      <td>디자인은괜찮은데 상품이 금이가서 교환했는데 두번째받은상품도 까져있고 안쪽에 금이가져...</td>\n",
       "      <td>2</td>\n",
       "      <td>디자인은 괜찮은데 상품이 금이 가서 교환했는데 두 번째 받은 상품도 까져있고 안쪽에...</td>\n",
       "      <td>19</td>\n",
       "      <td>64</td>\n",
       "    </tr>\n",
       "    <tr>\n",
       "      <th>3</th>\n",
       "      <td>3</td>\n",
       "      <td>기전에 이 제품말고 이마트 트레이더스에서만 팔던 프리미엄 제품을 사용했었습니다. 샘...</td>\n",
       "      <td>2</td>\n",
       "      <td>기전에 이 제품 말고 이마트 트레이더스에서만 팔던 프리미엄 제품을 사용했었습니다 샘...</td>\n",
       "      <td>36</td>\n",
       "      <td>102</td>\n",
       "    </tr>\n",
       "    <tr>\n",
       "      <th>4</th>\n",
       "      <td>4</td>\n",
       "      <td>튼튼하고 손목을 잘 받쳐주네요~</td>\n",
       "      <td>5</td>\n",
       "      <td>튼튼하고 손목을 잘 받쳐주네요</td>\n",
       "      <td>4</td>\n",
       "      <td>13</td>\n",
       "    </tr>\n",
       "    <tr>\n",
       "      <th>...</th>\n",
       "      <td>...</td>\n",
       "      <td>...</td>\n",
       "      <td>...</td>\n",
       "      <td>...</td>\n",
       "      <td>...</td>\n",
       "      <td>...</td>\n",
       "    </tr>\n",
       "    <tr>\n",
       "      <th>24995</th>\n",
       "      <td>24995</td>\n",
       "      <td>일단향이너무너무좋은데지속력만좋다면좋겠지만..워낙저렴해그래도좋아여</td>\n",
       "      <td>5</td>\n",
       "      <td>일단 향이 너무너무 좋은데 지 속력만 좋다면 좋겠지만 워낙 저렴해 그래도 좋아요</td>\n",
       "      <td>12</td>\n",
       "      <td>33</td>\n",
       "    </tr>\n",
       "    <tr>\n",
       "      <th>24996</th>\n",
       "      <td>24996</td>\n",
       "      <td>동일한 업체에서 발송하고 한 상자로 배송되었는데 택배비는 이중 처리되었습니다.</td>\n",
       "      <td>2</td>\n",
       "      <td>동일한 업체에서 발송하고 한 상자로 배송되었는데 택배비는 이중 처리되었습니다</td>\n",
       "      <td>9</td>\n",
       "      <td>34</td>\n",
       "    </tr>\n",
       "    <tr>\n",
       "      <th>24997</th>\n",
       "      <td>24997</td>\n",
       "      <td>향이 좋아요!! 다른 향도 시켜보고 싶어요</td>\n",
       "      <td>4</td>\n",
       "      <td>향이 좋아요 다른 향도 시켜보고 싶어요</td>\n",
       "      <td>6</td>\n",
       "      <td>16</td>\n",
       "    </tr>\n",
       "    <tr>\n",
       "      <th>24998</th>\n",
       "      <td>24998</td>\n",
       "      <td>펼쳐보니 끝부분쯤에 50cm정도 찟어져 있습니다 날짜관계로 구냥 사용합니다</td>\n",
       "      <td>2</td>\n",
       "      <td>펼쳐보니 끝부분쯤에 정도 찢어져 있습니다 날짜 관계로 구냥 사용합니다</td>\n",
       "      <td>9</td>\n",
       "      <td>30</td>\n",
       "    </tr>\n",
       "    <tr>\n",
       "      <th>24999</th>\n",
       "      <td>24999</td>\n",
       "      <td>호호애미 제품은 늘 믿고 써요</td>\n",
       "      <td>5</td>\n",
       "      <td>호호 어미 제품은 늘 믿고 써요</td>\n",
       "      <td>6</td>\n",
       "      <td>12</td>\n",
       "    </tr>\n",
       "  </tbody>\n",
       "</table>\n",
       "<p>24988 rows × 6 columns</p>\n",
       "</div>"
      ],
      "text/plain": [
       "          id                                            reviews  target  \\\n",
       "0          0                                     조아요 처음구입 싸게햇어요       2   \n",
       "1          1  생각보다 잘 안돼요 매지 바른지 하루밖에 안됐는데ㅠㅠ 25천원가량 주고 사기 너무 ...       1   \n",
       "2          2  디자인은괜찮은데 상품이 금이가서 교환했는데 두번째받은상품도 까져있고 안쪽에 금이가져...       2   \n",
       "3          3  기전에 이 제품말고 이마트 트레이더스에서만 팔던 프리미엄 제품을 사용했었습니다. 샘...       2   \n",
       "4          4                                  튼튼하고 손목을 잘 받쳐주네요~       5   \n",
       "...      ...                                                ...     ...   \n",
       "24995  24995                일단향이너무너무좋은데지속력만좋다면좋겠지만..워낙저렴해그래도좋아여       5   \n",
       "24996  24996        동일한 업체에서 발송하고 한 상자로 배송되었는데 택배비는 이중 처리되었습니다.       2   \n",
       "24997  24997                            향이 좋아요!! 다른 향도 시켜보고 싶어요       4   \n",
       "24998  24998          펼쳐보니 끝부분쯤에 50cm정도 찟어져 있습니다 날짜관계로 구냥 사용합니다       2   \n",
       "24999  24999                                   호호애미 제품은 늘 믿고 써요       5   \n",
       "\n",
       "                                        reviews_hanspell  tkn_size  chr_size  \n",
       "0                                       좋아요 처음 구입 싸게 했어요         5        12  \n",
       "1        생각보다 잘 안돼요 매지 바른지 하루밖에 안됐는데 천 원가량 주고 사기 너무 아깝네요        13        35  \n",
       "2      디자인은 괜찮은데 상품이 금이 가서 교환했는데 두 번째 받은 상품도 까져있고 안쪽에...        19        64  \n",
       "3      기전에 이 제품 말고 이마트 트레이더스에서만 팔던 프리미엄 제품을 사용했었습니다 샘...        36       102  \n",
       "4                                       튼튼하고 손목을 잘 받쳐주네요         4        13  \n",
       "...                                                  ...       ...       ...  \n",
       "24995       일단 향이 너무너무 좋은데 지 속력만 좋다면 좋겠지만 워낙 저렴해 그래도 좋아요        12        33  \n",
       "24996         동일한 업체에서 발송하고 한 상자로 배송되었는데 택배비는 이중 처리되었습니다         9        34  \n",
       "24997                              향이 좋아요 다른 향도 시켜보고 싶어요         6        16  \n",
       "24998             펼쳐보니 끝부분쯤에 정도 찢어져 있습니다 날짜 관계로 구냥 사용합니다         9        30  \n",
       "24999                                  호호 어미 제품은 늘 믿고 써요         6        12  \n",
       "\n",
       "[24988 rows x 6 columns]"
      ]
     },
     "execution_count": 27,
     "metadata": {},
     "output_type": "execute_result"
    }
   ],
   "source": [
    "# 24981 rows × 8 columns\n",
    "df"
   ]
  },
  {
   "cell_type": "code",
   "execution_count": 28,
   "metadata": {
    "id": "9BlcaSQXmd52"
   },
   "outputs": [],
   "source": [
    "import pandas as pd\n",
    "\n",
    "# data_path=\"/gdrive/MyDrive/Colab Notebooks/제주ICT-AI분석반-쇼핑몰분석/data\"\n",
    "data_path=\"~/Workspaces/keras/aib-proj-dacon/data\"\n",
    "\n",
    "# 전처리 된 csv 저장\n",
    "# - index=False 안하면, `unnamed:0` 컬럼 생성됨\n",
    "df.to_csv(data_path+'/train_hanspell.csv', index=False, encoding='utf-8')   # train\n",
    "# df.to_csv(data_path+'/test_hanspell.csv', index=False, encoding='utf-8')  # test\n"
   ]
  },
  {
   "cell_type": "markdown",
   "metadata": {
    "id": "-tzFkr_u3Zc6"
   },
   "source": [
    "### 데이터 전처리 배치 작업\n",
    "\n",
    "파일명만 지정"
   ]
  },
  {
   "cell_type": "code",
   "execution_count": 29,
   "metadata": {
    "colab": {
     "base_uri": "https://localhost:8080/",
     "height": 424
    },
    "executionInfo": {
     "elapsed": 1476,
     "status": "ok",
     "timestamp": 1658738884518,
     "user": {
      "displayName": "민병국",
      "userId": "09364981984888868466"
     },
     "user_tz": -540
    },
    "id": "E4IopkDf4LNL",
    "outputId": "de771d4d-3693-4f29-9cc8-3cc80a76cf6b"
   },
   "outputs": [],
   "source": [
    "# data_path=\"/gdrive/MyDrive/Colab Notebooks/제주ICT-AI분석반-쇼핑몰분석/data\"\n",
    "\n",
    "data_path=\"~/Workspaces/keras/aib-proj-dacon/data\"\n",
    "file_name='test'\n",
    "\n",
    "# 컬럼명 등 변수 설정\n",
    "text_col = 'reviews'           # 전처리 대상 컬럼\n",
    "temp_col = 'reviews_tmp'       # 전처리 임시 컬럼\n",
    "done_col = 'reviews_hanspell'  # 전처리 적용 컬럼"
   ]
  },
  {
   "cell_type": "code",
   "execution_count": 30,
   "metadata": {
    "colab": {
     "base_uri": "https://localhost:8080/",
     "height": 785
    },
    "executionInfo": {
     "elapsed": 1080,
     "status": "ok",
     "timestamp": 1658739359764,
     "user": {
      "displayName": "민병국",
      "userId": "09364981984888868466"
     },
     "user_tz": -540
    },
    "id": "M3VL55O4kaTW",
    "outputId": "2cd45cef-7f83-4242-c47c-91004ccc7646"
   },
   "outputs": [
    {
     "data": {
      "application/vnd.jupyter.widget-view+json": {
       "model_id": "94c379f2af9747c696b6368638e748f1",
       "version_major": 2,
       "version_minor": 0
      },
      "text/plain": [
       "  0%|          | 0/25000 [00:00<?, ?it/s]"
      ]
     },
     "metadata": {},
     "output_type": "display_data"
    },
    {
     "name": "stdout",
     "output_type": "stream",
     "text": [
      "count NaN: 0\n",
      "\n",
      "count 1-char: 8\n",
      "\n",
      "droped_len= 8 , then size= 24992\n"
     ]
    }
   ],
   "source": [
    "import time\n",
    "import re\n",
    "import pandas as pd\n",
    "import numpy as np\n",
    "\n",
    "print(f'preprocessing: {data_path}/{file_name}.csv')\n",
    "start = time.time()\n",
    "\n",
    "# 원본 csv 로딩\n",
    "df = pd.read_csv(f'{data_path}/{file_name}.csv')\n",
    "before_size=len(df)\n",
    "\n",
    "\n",
    "# 한글 자모음 제거\n",
    "df[temp_col] = df[text_col].replace(r'[ㄱ-ㅎ|ㅏ-ㅣ]+', '', regex=True)\n",
    "# 웹주소 제거\n",
    "df[temp_col] = df[temp_col].replace(r'http[s]?://(?:[a-zA-Z]|[0-9]|[$-_@.&+]|[!*\\(\\),]|(?:%[0-9a-fA-F][0-9a-fA-F]))+', '', regex=True)\n",
    "# 이메일 제거\n",
    "df[temp_col] = df[temp_col].replace(r'([A-Za-z0-9]+[.-_])*[A-Za-z0-9]+@[A-Za-z0-9-]+(\\.[A-Z|a-z]{2,})+', '', regex=True)\n",
    "# 전화번호 제거\n",
    "df[temp_col] = df[temp_col].replace(r'0[0-9]{1,2}[-]{0,1}[0-9]{3,4}[-]{0,1}[0-9]{4}', '', regex=True)\n",
    "# 한글만 남기고 모두 제거\n",
    "df[temp_col] = df[temp_col].replace(r'[^가-힣 ]+', '', regex=True)\n",
    "\n",
    "\n",
    "# 띄어쓰기, 맞춤법 수정\n",
    "df[done_col] = ko_spellchecker(df[temp_col].tolist())\n",
    "\n",
    "\n",
    "# 토큰수\n",
    "df['tkn_size'] = df.loc[~df[done_col].isna(), done_col].apply(lambda s: len(s.split()))\n",
    "# 공백 제외 글자수\n",
    "df['chr_size'] = df.loc[~df[done_col].isna(), done_col].apply(lambda s: len(re.findall(r'\\S',s)) )\n",
    "\n",
    "\n",
    "# 공백을 NaN 으로\n",
    "df = df.replace(r'^\\s*$', np.NaN, regex=True)\n",
    "# NaN 확인 (pos_tokens=0)\n",
    "print('count NaN:', df[done_col].isna().sum())\n",
    "# NaN 포함열 삭제\n",
    "df = df.dropna()\n",
    "\n",
    "# 한글자 pos_tokens 확인 (pos_tokens=12)\n",
    "print('count 1-char:', len(df[ (df['chr_size']==1) & ~(df[done_col].str.contains('굿')) ]), end='\\n\\n' )\n",
    "# 한글자 pos_tokens 포함열 삭제 (단, '굿' 제외)\n",
    "df = df.drop( df[ (df['chr_size']==1) & ~(df[done_col].str.contains('굿')) ].index )\n",
    "\n",
    "\n",
    "after_size=len(df)\n",
    "print(f'droped_len={before_size-after_size:02d}', f', then size={after_size}')\n",
    "\n",
    "# 불필요한 컬럼 제거\n",
    "df = df.drop([temp_col], axis='columns')\n",
    "\n",
    "\n",
    "# 전처리 된 csv 저장\n",
    "df.to_csv(f'{data_path}/{file_name}_hanspell.csv', index=False, encoding='utf-8')\n",
    "print(f'... saved: {data_path}/{file_name}_hanspell.csv')\n",
    "print( \"... elapsed_time(sec)=\", time.time() - start)\n",
    "\n",
    "# train: droped_len=12 , then size= 24988\n",
    "# test : droped_len= 8 , then size= 24992"
   ]
  },
  {
   "cell_type": "code",
   "execution_count": 34,
   "metadata": {
    "id": "AdqhztWV5hUt"
   },
   "outputs": [
    {
     "name": "stdout",
     "output_type": "stream",
     "text": [
      "-rw-rw-r--@ 1 bgmin  staff   188900  7  7 01:13 /Users/bgmin/Workspaces/keras/aib-proj-dacon/data/sample_submission.csv\r\n",
      "-rw-rw-r--@ 1 bgmin  staff   188891  7 27 19:49 /Users/bgmin/Workspaces/keras/aib-proj-dacon/data/submission_v6_4.csv\r\n",
      "-rw-rw-r--@ 1 bgmin  staff   188891  7 27 20:16 /Users/bgmin/Workspaces/keras/aib-proj-dacon/data/submission_v6_5.csv\r\n",
      "-rw-rw-r--@ 1 bgmin  staff  2679138  7  7 01:13 /Users/bgmin/Workspaces/keras/aib-proj-dacon/data/test.csv\r\n",
      "-rw-r--r--  1 bgmin  staff  5322082  7 29 19:00 /Users/bgmin/Workspaces/keras/aib-proj-dacon/data/test_hanspell.csv\r\n",
      "-rw-rw-r--@ 1 bgmin  staff  8288753  7 24 04:11 /Users/bgmin/Workspaces/keras/aib-proj-dacon/data/test_mecab.csv\r\n",
      "-rw-rw-r--@ 1 bgmin  staff  7841571  7 24 04:35 /Users/bgmin/Workspaces/keras/aib-proj-dacon/data/test_okt.csv\r\n",
      "-rw-rw-r--@ 1 bgmin  staff  7650515  7 25 01:57 /Users/bgmin/Workspaces/keras/aib-proj-dacon/data/test_okt_stem.csv\r\n",
      "-rw-rw-r--@ 1 bgmin  staff  2738015  7  7 01:13 /Users/bgmin/Workspaces/keras/aib-proj-dacon/data/train.csv\r\n",
      "-rw-r--r--  1 bgmin  staff  5390496  7 29 18:24 /Users/bgmin/Workspaces/keras/aib-proj-dacon/data/train_hanspell.csv\r\n",
      "-rw-rw-r--@ 1 bgmin  staff  8366728  7 24 04:09 /Users/bgmin/Workspaces/keras/aib-proj-dacon/data/train_mecab.csv\r\n",
      "-rw-rw-r--@ 1 bgmin  staff  7916589  7 24 04:29 /Users/bgmin/Workspaces/keras/aib-proj-dacon/data/train_okt.csv\r\n",
      "-rw-rw-r--@ 1 bgmin  staff  7726432  7 25 00:25 /Users/bgmin/Workspaces/keras/aib-proj-dacon/data/train_okt_stem.csv\r\n"
     ]
    }
   ],
   "source": [
    "!ls -l $data_path/*.csv"
   ]
  },
  {
   "cell_type": "code",
   "execution_count": null,
   "metadata": {},
   "outputs": [],
   "source": []
  }
 ],
 "metadata": {
  "colab": {
   "authorship_tag": "ABX9TyOoJQL/2vtE4HjDqks39xXu",
   "collapsed_sections": [],
   "name": "review_scores-okt.ipynb",
   "provenance": [
    {
     "file_id": "11j9-Q4vCRlVc3CmTjmNda091aN6E631x",
     "timestamp": 1658561081858
    }
   ]
  },
  "kernelspec": {
   "display_name": "Python 3 (ipykernel)",
   "language": "python",
   "name": "python3"
  },
  "language_info": {
   "codemirror_mode": {
    "name": "ipython",
    "version": 3
   },
   "file_extension": ".py",
   "mimetype": "text/x-python",
   "name": "python",
   "nbconvert_exporter": "python",
   "pygments_lexer": "ipython3",
   "version": "3.9.13"
  },
  "vscode": {
   "interpreter": {
    "hash": "b07c26107ec8864bc90f82b7b0852371725716d682b4b80204fd6d5ff11a363c"
   }
  }
 },
 "nbformat": 4,
 "nbformat_minor": 1
}
